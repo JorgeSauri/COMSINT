{
  "cells": [
    {
      "cell_type": "code",
      "execution_count": 1,
      "metadata": {
        "colab": {
          "base_uri": "https://localhost:8080/"
        },
        "id": "zZXWNzHxljy7",
        "outputId": "8fb65f26-3cc5-422a-8213-1efe4db1e5e7"
      },
      "outputs": [],
      "source": [
        "# # Requerimientos de librerías:\n",
        "# !pip install spacy\n",
        "# !python -m spacy download es_core_news_md\n",
        "\n",
        "# !pip install transformers\n",
        "# !pip install transformers scipy ftfy accelerate\n",
        "\n",
        "# !git clone https://github.com/JorgeSauri/COMSINT.git "
      ]
    },
    {
      "cell_type": "code",
      "execution_count": 2,
      "metadata": {
        "colab": {
          "base_uri": "https://localhost:8080/"
        },
        "id": "UC0BQgBCa7EU",
        "outputId": "52b39a9d-3f62-48c0-d2e3-fe9fa9d56cd0"
      },
      "outputs": [],
      "source": [
        "import os\n",
        "import pandas as pd\n",
        "import matplotlib.pyplot as plt\n",
        "from tqdm import tqdm\n",
        "import tensorflow as tf\n",
        "import numpy as np\n",
        "# from google.colab import drive\n",
        "# drive.mount('/content/drive')"
      ]
    },
    {
      "cell_type": "code",
      "execution_count": 3,
      "metadata": {
        "id": "PqqyOJYUmpu8"
      },
      "outputs": [
        {
          "name": "stderr",
          "output_type": "stream",
          "text": [
            "c:\\Users\\jsaur\\anaconda3\\envs\\ENV1\\lib\\site-packages\\tqdm\\auto.py:22: TqdmWarning: IProgress not found. Please update jupyter and ipywidgets. See https://ipywidgets.readthedocs.io/en/stable/user_install.html\n",
            "  from .autonotebook import tqdm as notebook_tqdm\n"
          ]
        }
      ],
      "source": [
        "from recomendaciones_comsint import Recomendador"
      ]
    },
    {
      "attachments": {},
      "cell_type": "markdown",
      "metadata": {},
      "source": [
        "## Con tamaño embeddings 256\n",
        "- CNN de max 512 kernels (v4)"
      ]
    },
    {
      "cell_type": "code",
      "execution_count": 4,
      "metadata": {},
      "outputs": [
        {
          "name": "stdout",
          "output_type": "stream",
          "text": [
            "[PhysicalDevice(name='/physical_device:GPU:0', device_type='GPU')]\n",
            "No se encontró el modelo Modelos/Modelo_Nut_FV_DistilBERT_04_EMBED-256_CNN.h5\n",
            "Puedes crear uno nuevo con el método EntrenarModelo()\n",
            "\n"
          ]
        }
      ],
      "source": [
        "version = 4\n",
        "\n",
        "recomendador256 = Recomendador(fuente='recetario_mexicano_small.csv',\n",
        "                            nutricion = 'nutricion.csv',\n",
        "                            canasta='canasta_basica.csv')\n",
        "\n",
        "recomendador256.CargarModelo(emb_size=256, version=version)"
      ]
    },
    {
      "cell_type": "code",
      "execution_count": 5,
      "metadata": {},
      "outputs": [
        {
          "name": "stdout",
          "output_type": "stream",
          "text": [
            "Generando 1  recetas aleatorias...\n",
            "\n"
          ]
        },
        {
          "name": "stderr",
          "output_type": "stream",
          "text": [
            "100%|██████████| 1/1 [00:00<00:00,  5.60it/s]\n"
          ]
        },
        {
          "data": {
            "text/plain": [
              "array([['4 piezas de cordero  frito  cocinado  cerebro  carnes de variedades y subproductos, 10 piezas de keebler  suave  galleta de pasas de avena  tesoros de panaderos, 9 gramos de ternera  cruda  separable solamente  hueso  frente  vástago  australiano, 10 cucharadas de ternera  frita  cocinada  hígado  carnes de variedades y subproductos, 3 gramos de frijoles  sólidos drenados  paquete regular  enlatado  verde  chasquido, 5 tazas de suero  fluido  dulce',\n",
              "        '5304.28', '691.19', '130.78', '228.45']], dtype='<U452')"
            ]
          },
          "execution_count": 5,
          "metadata": {},
          "output_type": "execute_result"
        }
      ],
      "source": [
        "recomendador256.generar_dataset_entrenamiento_nut(df_nutricionales='nutricion.csv', \n",
        "                                                  min_ingredientes=5, max_ingredientes=11,\n",
        "                                                  min_unidades=1, max_unidades=11,\n",
        "                                                  numero_recetas=1)"
      ]
    },
    {
      "cell_type": "code",
      "execution_count": 6,
      "metadata": {
        "colab": {
          "base_uri": "https://localhost:8080/"
        },
        "id": "bEJi_jszmzf9",
        "outputId": "040f86a7-dbbe-43d2-a00d-fece49e9e4d2"
      },
      "outputs": [
        {
          "name": "stdout",
          "output_type": "stream",
          "text": [
            "\n",
            "ITERACIÓN: 1\n",
            "min unidades: 1  max unidades: 11\n",
            "Entrenando desde epoch 0\n",
            "------------------------------------------\n",
            "\n",
            "Error al cargar archivos NumPy.\n",
            "datasets/numpy/10000_recetas_random_EMBED-256_DATA_X.npy no existe o está corrupto.\n",
            "datasets/numpy/10000_recetas_random_EMBED-256_DATA_Y.npy no existe o está corrupto.\n",
            "Generando 10000  recetas aleatorias...\n",
            "\n"
          ]
        },
        {
          "name": "stderr",
          "output_type": "stream",
          "text": [
            "100%|██████████| 10000/10000 [00:14<00:00, 672.02it/s]\n"
          ]
        },
        {
          "name": "stdout",
          "output_type": "stream",
          "text": [
            "Calculando vector de características de 10000 recetas...\n"
          ]
        },
        {
          "name": "stderr",
          "output_type": "stream",
          "text": [
            "100%|██████████| 10000/10000 [9:00:25<00:00,  3.24s/it] \n"
          ]
        },
        {
          "name": "stdout",
          "output_type": "stream",
          "text": [
            "Error al cargar archivos NumPy.\n",
            "datasets/numpy/9_TEST_EMBED-256_DATA_X.npy no existe o está corrupto.\n",
            "datasets/numpy/9_TEST_EMBED-256_DATA_Y.npy no existe o está corrupto.\n",
            "Procesando dataset de testing...\n",
            "Procesando recetas_test.csv\n"
          ]
        },
        {
          "name": "stderr",
          "output_type": "stream",
          "text": [
            "100%|██████████| 9/9 [00:00<00:00, 1002.70it/s]\n"
          ]
        },
        {
          "name": "stdout",
          "output_type": "stream",
          "text": [
            "Calculando vector de características de 9 recetas...\n"
          ]
        },
        {
          "name": "stderr",
          "output_type": "stream",
          "text": [
            "100%|██████████| 9/9 [00:27<00:00,  3.06s/it]\n"
          ]
        },
        {
          "name": "stdout",
          "output_type": "stream",
          "text": [
            "Error al cargar archivos NumPy.\n",
            "datasets/numpy/7_VAL_EMBED-256_DATA_X.npy no existe o está corrupto.\n",
            "datasets/numpy/7_VAL_EMBED-256_DATA_Y.npy no existe o está corrupto.\n",
            "Procesando dataset de validación...\n",
            "Procesando recetas_val.csv\n"
          ]
        },
        {
          "name": "stderr",
          "output_type": "stream",
          "text": [
            "100%|██████████| 7/7 [00:00<00:00, 7013.89it/s]\n"
          ]
        },
        {
          "name": "stdout",
          "output_type": "stream",
          "text": [
            "Calculando vector de características de 7 recetas...\n"
          ]
        },
        {
          "name": "stderr",
          "output_type": "stream",
          "text": [
            "100%|██████████| 7/7 [00:23<00:00,  3.36s/it]\n"
          ]
        },
        {
          "name": "stdout",
          "output_type": "stream",
          "text": [
            "Model: \"ModeloCNNNut_128\"\n",
            "_________________________________________________________________\n",
            " Layer (type)                Output Shape              Param #   \n",
            "=================================================================\n",
            " CapaEntrada (InputLayer)    [(None, 196608)]          0         \n",
            "                                                                 \n",
            " RESHAPING (Reshape)         (None, 256, 768)          0         \n",
            "                                                                 \n",
            " batch_normalization (BatchN  (None, 256, 768)         3072      \n",
            " ormalization)                                                   \n",
            "                                                                 \n",
            " CONV_1 (Conv1D)             (None, 252, 512)          1966592   \n",
            "                                                                 \n",
            " POOLING_1 (MaxPooling1D)    (None, 251, 512)          0         \n",
            "                                                                 \n",
            " CONV_2 (Conv1D)             (None, 249, 256)          393472    \n",
            "                                                                 \n",
            " POOLING_2 (MaxPooling1D)    (None, 248, 256)          0         \n",
            "                                                                 \n",
            " CONV_3 (Conv1D)             (None, 246, 128)          98432     \n",
            "                                                                 \n",
            " POOLING_3 (MaxPooling1D)    (None, 245, 128)          0         \n",
            "                                                                 \n",
            " dropout_190304 (Dropout)    (None, 245, 128)          0         \n",
            "                                                                 \n",
            " flatten (Flatten)           (None, 31360)             0         \n",
            "                                                                 \n",
            " dense (Dense)               (None, 256)               8028416   \n",
            "                                                                 \n",
            " dense_1 (Dense)             (None, 128)               32896     \n",
            "                                                                 \n",
            " dense_2 (Dense)             (None, 64)                8256      \n",
            "                                                                 \n",
            " dropout_190305 (Dropout)    (None, 64)                0         \n",
            "                                                                 \n",
            " CapaSalida (Dense)          (None, 4)                 260       \n",
            "                                                                 \n",
            "=================================================================\n",
            "Total params: 10,531,396\n",
            "Trainable params: 10,529,860\n",
            "Non-trainable params: 1,536\n",
            "_________________________________________________________________\n",
            "Epoch 1/100\n",
            "1250/1250 [==============================] - 341s 270ms/step - loss: 344.6891 - mae: 344.6891 - val_loss: 242.6948 - val_mae: 242.6948\n",
            "Epoch 2/100\n",
            "1250/1250 [==============================] - 336s 268ms/step - loss: 279.0425 - mae: 279.0425 - val_loss: 245.8930 - val_mae: 245.8930\n",
            "Epoch 3/100\n",
            "1250/1250 [==============================] - 340s 272ms/step - loss: 254.0899 - mae: 254.0899 - val_loss: 240.1241 - val_mae: 240.1241\n",
            "Epoch 4/100\n",
            "1250/1250 [==============================] - 337s 270ms/step - loss: 232.4010 - mae: 232.4010 - val_loss: 239.1127 - val_mae: 239.1127\n",
            "Epoch 5/100\n",
            "1250/1250 [==============================] - 338s 270ms/step - loss: 221.0270 - mae: 221.0270 - val_loss: 239.7261 - val_mae: 239.7261\n",
            "Epoch 6/100\n",
            "1117/1250 [=========================>....] - ETA: 36s - loss: 210.8411 - mae: 210.8411"
          ]
        }
      ],
      "source": [
        "recomendador256.NUM_RECETAS = 10000\n",
        "recomendador256.EMB_SIZE = 256\n",
        "ITER = 1\n",
        "INITIAL_EPOCH = 0\n",
        "EPOCHS = 100\n",
        "\n",
        "Histories = []\n",
        "for iteracion in range(ITER):\n",
        "  MINU = 1 \n",
        "  MAXU = 11   \n",
        "  print('\\nITERACIÓN:', iteracion+1)\n",
        "  print('min unidades:',MINU, ' max unidades:', MAXU)\n",
        "  print('Entrenando desde epoch', INITIAL_EPOCH)\n",
        "  print('------------------------------------------\\n')\n",
        "  modelo256, history = recomendador256.EntrenarModelo(df_nutricionales='nutricion.csv',\n",
        "                                #df_training='recipes_con_info_nutricional.csv',\n",
        "                                df_test='recetas_test.csv', \n",
        "                                df_val='recetas_val.csv',\n",
        "                                learning_rate=1e-4,\n",
        "                                version=version, \n",
        "                                initial_epoch = INITIAL_EPOCH,                             \n",
        "                                epochs=INITIAL_EPOCH + EPOCHS, \n",
        "                                kernels=128,                                             \n",
        "                                min_ingredientes=5, max_ingredientes=11,\n",
        "                                min_unidades=MINU, max_unidades=MAXU,                               \n",
        "                                save=True, verbose=True)\n",
        "  INITIAL_EPOCH = history.epoch[-1]\n",
        "\n",
        "  Histories.append(history)\n"
      ]
    },
    {
      "cell_type": "code",
      "execution_count": null,
      "metadata": {},
      "outputs": [
        {
          "ename": "",
          "evalue": "",
          "output_type": "error",
          "traceback": [
            "\u001b[1;31mNo se pudo iniciar el Kernel. \n",
            "\u001b[1;31mUnable to start Kernel 'ENV1 (Python 3.10.4)' due to connection timeout. \n",
            "\u001b[1;31mView Jupyter <a href='command:jupyter.viewOutput'>log</a> for further details."
          ]
        }
      ],
      "source": [
        "for i in range(len(Histories)):\n",
        "    history = Histories[i]    \n",
        "    pd.DataFrame(history.history).plot()\n",
        "    plt.title('ITERACIÓN ' + str(i))\n",
        "    plt.show()\n",
        "    print('LOSS:',history.history['loss'][-1], ' -- MAE:', history.history['mae'][-1], \n",
        "          ' -- VAL_LOSS:', history.history['val_loss'][-1], ' -- VAL_MAE:', history.history['val_mae'][-1])\n",
        "    print('----------------------------------------------------------')"
      ]
    },
    {
      "cell_type": "code",
      "execution_count": null,
      "metadata": {},
      "outputs": [
        {
          "ename": "",
          "evalue": "",
          "output_type": "error",
          "traceback": [
            "\u001b[1;31mNo se pudo iniciar el Kernel. \n",
            "\u001b[1;31mUnable to start Kernel 'ENV1 (Python 3.10.4)' due to connection timeout. \n",
            "\u001b[1;31mView Jupyter <a href='command:jupyter.viewOutput'>log</a> for further details."
          ]
        }
      ],
      "source": [
        "modelo256, history2 = recomendador256.EntrenarModelo(df_nutricionales='nutricion.csv',\n",
        "                            df_training='recipes_con_info_nutricional.csv',\n",
        "                            df_test='recetas_test.csv', \n",
        "                            df_val='recetas_val.csv',\n",
        "                            learning_rate=1e-4,\n",
        "                            version=version, \n",
        "                            initial_epoch = INITIAL_EPOCH,                             \n",
        "                            epochs=INITIAL_EPOCH + EPOCHS, \n",
        "                            kernels=128,                                             \n",
        "                            min_ingredientes=5, max_ingredientes=11,\n",
        "                            min_unidades=MINU, max_unidades=MAXU,                               \n",
        "                            save=True, verbose=True)\n",
        "\n",
        "Histories.append(history)"
      ]
    },
    {
      "cell_type": "code",
      "execution_count": null,
      "metadata": {},
      "outputs": [
        {
          "ename": "",
          "evalue": "",
          "output_type": "error",
          "traceback": [
            "\u001b[1;31mNo se pudo iniciar el Kernel. \n",
            "\u001b[1;31mUnable to start Kernel 'ENV1 (Python 3.10.4)' due to connection timeout. \n",
            "\u001b[1;31mView Jupyter <a href='command:jupyter.viewOutput'>log</a> for further details."
          ]
        }
      ],
      "source": [
        "for i in range(len(Histories)):\n",
        "    history = Histories[i]    \n",
        "    pd.DataFrame(history.history).plot()\n",
        "    plt.title('ITERACIÓN ' + str(i))\n",
        "    plt.show()\n",
        "    print('LOSS:',history.history['loss'][-1], ' -- MAE:', history.history['mae'][-1], \n",
        "          ' -- VAL_LOSS:', history.history['val_loss'][-1], ' -- VAL_MAE:', history.history['val_mae'][-1])\n",
        "    print('----------------------------------------------------------')"
      ]
    }
  ],
  "metadata": {
    "accelerator": "GPU",
    "colab": {
      "provenance": []
    },
    "gpuClass": "standard",
    "kernelspec": {
      "display_name": "ENV1",
      "language": "python",
      "name": "python3"
    },
    "language_info": {
      "codemirror_mode": {
        "name": "ipython",
        "version": 3
      },
      "file_extension": ".py",
      "mimetype": "text/x-python",
      "name": "python",
      "nbconvert_exporter": "python",
      "pygments_lexer": "ipython3",
      "version": "3.10.4"
    },
    "vscode": {
      "interpreter": {
        "hash": "5f2da51d7d0dec3faa1f8ac8beeb385a8f34478b2b58e2219ee6afa3e91fcd74"
      }
    }
  },
  "nbformat": 4,
  "nbformat_minor": 0
}
