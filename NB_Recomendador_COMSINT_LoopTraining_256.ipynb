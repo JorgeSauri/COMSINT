{
  "cells": [
    {
      "cell_type": "code",
      "execution_count": 1,
      "metadata": {
        "colab": {
          "base_uri": "https://localhost:8080/"
        },
        "id": "zZXWNzHxljy7",
        "outputId": "8fb65f26-3cc5-422a-8213-1efe4db1e5e7"
      },
      "outputs": [],
      "source": [
        "# # Requerimientos de librerías:\n",
        "# !pip install spacy\n",
        "# !python -m spacy download es_core_news_md\n",
        "\n",
        "# !pip install transformers\n",
        "# !pip install transformers scipy ftfy accelerate\n",
        "\n",
        "# !git clone https://github.com/JorgeSauri/COMSINT.git "
      ]
    },
    {
      "cell_type": "code",
      "execution_count": 2,
      "metadata": {
        "colab": {
          "base_uri": "https://localhost:8080/"
        },
        "id": "UC0BQgBCa7EU",
        "outputId": "52b39a9d-3f62-48c0-d2e3-fe9fa9d56cd0"
      },
      "outputs": [],
      "source": [
        "import os\n",
        "import pandas as pd\n",
        "import matplotlib.pyplot as plt\n",
        "from tqdm import tqdm\n",
        "import tensorflow as tf\n",
        "import numpy as np\n",
        "# from google.colab import drive\n",
        "# drive.mount('/content/drive')"
      ]
    },
    {
      "cell_type": "code",
      "execution_count": 3,
      "metadata": {
        "id": "PqqyOJYUmpu8"
      },
      "outputs": [
        {
          "name": "stderr",
          "output_type": "stream",
          "text": [
            "c:\\Users\\jsaur\\anaconda3\\envs\\ENV1\\lib\\site-packages\\tqdm\\auto.py:22: TqdmWarning: IProgress not found. Please update jupyter and ipywidgets. See https://ipywidgets.readthedocs.io/en/stable/user_install.html\n",
            "  from .autonotebook import tqdm as notebook_tqdm\n"
          ]
        }
      ],
      "source": [
        "from recomendaciones_comsint import Recomendador"
      ]
    },
    {
      "attachments": {},
      "cell_type": "markdown",
      "metadata": {},
      "source": [
        "## Con tamaño embeddings 256\n",
        "- CNN de max 512 kernels (v4)"
      ]
    },
    {
      "cell_type": "code",
      "execution_count": 4,
      "metadata": {},
      "outputs": [
        {
          "name": "stdout",
          "output_type": "stream",
          "text": [
            "[PhysicalDevice(name='/physical_device:GPU:0', device_type='GPU')]\n",
            "Modelo Modelos/Modelo_Nut_FV_DistilBERT_04_EMBED-128_CNN.h5 cargado con éxito.\n",
            "Modelo Modelos/Modelo_Precios_FV_DistilBERT_04_EMBED-128_CNN.h5 cargado con éxito.\n"
          ]
        }
      ],
      "source": [
        "version = 4\n",
        "\n",
        "recomendador256 = Recomendador(fuente='recetario_mexicano_small.csv',\n",
        "                            nutricion = 'nutricion_mejorado.csv',\n",
        "                            canasta='canasta_basica.csv')\n",
        "\n",
        "recomendador256.CargarModelo(emb_size=256, version=version)"
      ]
    },
    {
      "cell_type": "code",
      "execution_count": 5,
      "metadata": {},
      "outputs": [
        {
          "name": "stdout",
          "output_type": "stream",
          "text": [
            "Generando 10 recetas aleatorias, esto puede tardar varios minutos...\n"
          ]
        },
        {
          "data": {
            "text/plain": [
              "<AxesSubplot:>"
            ]
          },
          "execution_count": 5,
          "metadata": {},
          "output_type": "execute_result"
        },
        {
          "data": {
            "image/png": "[encoded data removed]",
            "text/plain": [
              "<Figure size 1440x720 with 1 Axes>"
            ]
          },
          "metadata": {
            "needs_background": "light"
          },
          "output_type": "display_data"
        }
      ],
      "source": [
        "test = recomendador256.generar_dataset_entrenamiento_nut(df_nutricionales='nutricion_mejorado.csv', \n",
        "                                                  min_ingredientes=5, max_ingredientes=11,\n",
        "                                                  min_unidades=1, max_unidades=10,\n",
        "                                                  min_kcal=300, max_kcal= 1800,\n",
        "                                                  numero_recetas=10, _INTENTOS=5,\n",
        "                                                  )\n",
        "\n",
        "df = pd.DataFrame(test, columns=['ingredientes', 'kcal', 'carbs', 'prot', 'grasas']) \n",
        "plt.figure(figsize=(20,10))\n",
        "df['kcal'].hist()"
      ]
    },
    {
      "attachments": {},
      "cell_type": "markdown",
      "metadata": {},
      "source": [
        "* Entrenar información nutricional"
      ]
    },
    {
      "cell_type": "code",
      "execution_count": null,
      "metadata": {
        "colab": {
          "base_uri": "https://localhost:8080/"
        },
        "id": "bEJi_jszmzf9",
        "outputId": "040f86a7-dbbe-43d2-a00d-fece49e9e4d2"
      },
      "outputs": [],
      "source": [
        "recomendador256.NUM_RECETAS = 100\n",
        "recomendador256.EMB_SIZE = 256\n",
        "BATCHSIZE = 32\n",
        "ITER = 50\n",
        "INITIAL_EPOCH = 0\n",
        "EPOCHS = recomendador256.NUM_RECETAS // BATCHSIZE\n",
        "#EPOCHS = 15\n",
        "LR = 1e-4\n",
        "\n",
        "Rangos_kcal = [\n",
        "                (300, 800),\n",
        "                (801, 1200),\n",
        "                (1201, 1700)           \n",
        "                #(500, 1500)              \n",
        "              ]\n",
        "\n",
        "Its = []\n",
        "Valmaes = []\n",
        "\n",
        "Histories = []\n",
        "val_mae = 1000\n",
        "MAX_VAL_MAE = 31\n",
        "\n",
        "iteracion = 0\n",
        "#for iteracion in range(ITER):\n",
        "while val_mae > MAX_VAL_MAE:\n",
        "  MINU = 1 \n",
        "  MAXU = 10  \n",
        "  #INITIAL_EPOCH = 0\n",
        "  \n",
        "\n",
        "  for ik in range(len(Rangos_kcal)):\n",
        "    MINK, MAXK = Rangos_kcal[ik]\n",
        "    print('\\nITERACIÓN:', iteracion+1)\n",
        "    print('min unidades:',MINU, ' max unidades:', MAXU)\n",
        "    print('min kcal:', MINK, ' max kcal:', MAXK)\n",
        "    print('Entrenando desde epoch', INITIAL_EPOCH)\n",
        "    print('------------------------------------------\\n')\n",
        "    try:\n",
        "      modelo256, history = recomendador256.EntrenarModelo(df_nutricionales='nutricion_mejorado.csv',\n",
        "                                    #df_training='recipes_con_info_nutricional.csv',\n",
        "                                    #df_test='recetas_test.csv', \n",
        "                                    #df_val='recetas_val.csv',\n",
        "                                    learning_rate=LR,\n",
        "                                    version=version, \n",
        "                                    initial_epoch = INITIAL_EPOCH,                             \n",
        "                                    epochs=INITIAL_EPOCH + EPOCHS, \n",
        "                                    batch_size=BATCHSIZE,\n",
        "                                    kernels=128,                                             \n",
        "                                    min_ingredientes=5, max_ingredientes=11,                                  \n",
        "                                    min_unidades=MINU, max_unidades=MAXU,  \n",
        "                                    min_kcal=MINK, max_kcal= MAXK,                             \n",
        "                                    save=True, verbose=True)\n",
        "      INITIAL_EPOCH = history.epoch[-1]\n",
        "\n",
        "      iteracion += 1\n",
        "      val_mae = float(history.history['val_mae'][-1])\n",
        "      Its.append(iteracion)\n",
        "      Valmaes.append(val_mae)\n",
        "      if val_mae <= MAX_VAL_MAE: break\n",
        "\n",
        "      Histories.append(history)\n",
        "    except:\n",
        "      print('Falló al entrenar en interación', iteracion)\n",
        "      pass\n",
        "    \n",
        "dfVM = pd.DataFrame({'iteracion':Its, 'val_mae':Valmaes}, columns=['iteracion', 'val_mae'])\n",
        "dfVM.plot(kind='bar', x='iteracion', y='val_mae')"
      ]
    },
    {
      "cell_type": "code",
      "execution_count": null,
      "metadata": {},
      "outputs": [],
      "source": [
        "for i in range(len(Histories)):\n",
        "    history = Histories[i]    \n",
        "    pd.DataFrame(history.history).plot()\n",
        "    plt.title('ITERACIÓN ' + str(i))\n",
        "    plt.show()\n",
        "    print('LOSS:',history.history['loss'][-1], ' -- MAE:', history.history['mae'][-1], \n",
        "          ' -- VAL_LOSS:', history.history['val_loss'][-1], ' -- VAL_MAE:', history.history['val_mae'][-1])\n",
        "    print('----------------------------------------------------------')"
      ]
    },
    {
      "attachments": {},
      "cell_type": "markdown",
      "metadata": {},
      "source": [
        "* Fine tunning Nutrición 256"
      ]
    },
    {
      "cell_type": "code",
      "execution_count": null,
      "metadata": {},
      "outputs": [],
      "source": [
        "modelo256_ft, history_ft = recomendador256.FineTuneModeloNut(df_nutricionales='nutrcion_mejorado.csv',\n",
        "                                                            df_training='recipes_con_info_nutricional.csv',\n",
        "                                                            df_test='recetas_test.csv', df_val='recetas_val.csv',\n",
        "                                                            learning_rate=1e-5,\n",
        "                                                            batch_size=32,\n",
        "                                                            epochs = 120,\n",
        "                                                            verbose=True, save=True)"
      ]
    },
    {
      "attachments": {},
      "cell_type": "markdown",
      "metadata": {},
      "source": [
        "* Entrenar precios"
      ]
    },
    {
      "cell_type": "code",
      "execution_count": null,
      "metadata": {},
      "outputs": [],
      "source": [
        "recomendador256.NUM_RECETAS = 500\n",
        "recomendador256.EMB_SIZE = 256\n",
        "BATCHSIZE = 32\n",
        "ITER = 10\n",
        "INITIAL_EPOCH = 0\n",
        "EPOCHS = recomendador256.NUM_RECETAS // BATCHSIZE\n",
        "\n",
        "\n",
        "Histories_precios = []\n",
        "for iteracion in range(ITER):\n",
        "    print('\\nITERACIÓN:', iteracion+1)\n",
        "    print('Entrenando desde epoch', INITIAL_EPOCH)\n",
        "    print('------------------------------------------\\n')\n",
        "    modelo256_precios, history_precios = recomendador256.EntrenarModeloPrecios(\n",
        "                                    df_precios='lista_precios_profeco_2022.csv',                                   \n",
        "                                    learning_rate=1e-4,\n",
        "                                    version=version, \n",
        "                                    initial_epoch = INITIAL_EPOCH,                             \n",
        "                                    epochs=INITIAL_EPOCH + EPOCHS, \n",
        "                                    min_ingredientes=5, max_ingredientes=11,                                  \n",
        "                                    min_unidades=MINU, max_unidades=MAXU,\n",
        "                                    batch_size=BATCHSIZE,\n",
        "                                    kernels=128,                                                                         \n",
        "                                    save=True, verbose=True)\n",
        "    INITIAL_EPOCH = history_precios.epoch[-1]\n",
        "\n",
        "    Histories_precios.append(history_precios)"
      ]
    },
    {
      "cell_type": "code",
      "execution_count": 10,
      "metadata": {},
      "outputs": [
        {
          "data": {
            "image/png": "[encoded data removed]",
            "text/plain": [
              "<Figure size 432x288 with 1 Axes>"
            ]
          },
          "metadata": {
            "needs_background": "light"
          },
          "output_type": "display_data"
        },
        {
          "name": "stdout",
          "output_type": "stream",
          "text": [
            "LOSS: 610.884521484375  -- MAE: 610.884521484375  -- VAL_LOSS: 605.876708984375  -- VAL_MAE: 605.876708984375\n",
            "----------------------------------------------------------\n"
          ]
        },
        {
          "data": {
            "image/png": "[encoded data removed]",
            "text/plain": [
              "<Figure size 432x288 with 1 Axes>"
            ]
          },
          "metadata": {
            "needs_background": "light"
          },
          "output_type": "display_data"
        },
        {
          "name": "stdout",
          "output_type": "stream",
          "text": [
            "LOSS: 384.781494140625  -- MAE: 384.781494140625  -- VAL_LOSS: 627.9765014648438  -- VAL_MAE: 627.9765014648438\n",
            "----------------------------------------------------------\n"
          ]
        }
      ],
      "source": [
        "for i in range(len(Histories_precios)):\n",
        "    history = Histories_precios[i]    \n",
        "    pd.DataFrame(history.history).plot()\n",
        "    plt.title('ITERACIÓN ' + str(i))\n",
        "    plt.show()\n",
        "    print('LOSS:',history.history['loss'][-1], ' -- MAE:', history.history['mae'][-1], \n",
        "          ' -- VAL_LOSS:', history.history['val_loss'][-1], ' -- VAL_MAE:', history.history['val_mae'][-1])\n",
        "    print('----------------------------------------------------------')"
      ]
    }
  ],
  "metadata": {
    "accelerator": "GPU",
    "colab": {
      "provenance": []
    },
    "gpuClass": "standard",
    "kernelspec": {
      "display_name": "ENV1",
      "language": "python",
      "name": "python3"
    },
    "language_info": {
      "codemirror_mode": {
        "name": "ipython",
        "version": 3
      },
      "file_extension": ".py",
      "mimetype": "text/x-python",
      "name": "python",
      "nbconvert_exporter": "python",
      "pygments_lexer": "ipython3",
      "version": "3.10.4"
    },
    "vscode": {
      "interpreter": {
        "hash": "5f2da51d7d0dec3faa1f8ac8beeb385a8f34478b2b58e2219ee6afa3e91fcd74"
      }
    }
  },
  "nbformat": 4,
  "nbformat_minor": 0
}
