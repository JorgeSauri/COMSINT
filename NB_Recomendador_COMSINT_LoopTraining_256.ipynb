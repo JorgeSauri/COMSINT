{
  "cells": [
    {
      "cell_type": "code",
      "execution_count": 1,
      "metadata": {
        "colab": {
          "base_uri": "https://localhost:8080/"
        },
        "id": "zZXWNzHxljy7",
        "outputId": "8fb65f26-3cc5-422a-8213-1efe4db1e5e7"
      },
      "outputs": [],
      "source": [
        "# # Requerimientos de librerías:\n",
        "# !pip install spacy\n",
        "# !python -m spacy download es_core_news_md\n",
        "\n",
        "# !pip install transformers\n",
        "# !pip install transformers scipy ftfy accelerate\n",
        "\n",
        "# !git clone https://github.com/JorgeSauri/COMSINT.git "
      ]
    },
    {
      "cell_type": "code",
      "execution_count": 2,
      "metadata": {
        "colab": {
          "base_uri": "https://localhost:8080/"
        },
        "id": "UC0BQgBCa7EU",
        "outputId": "52b39a9d-3f62-48c0-d2e3-fe9fa9d56cd0"
      },
      "outputs": [],
      "source": [
        "import os\n",
        "import pandas as pd\n",
        "import matplotlib.pyplot as plt\n",
        "from tqdm import tqdm\n",
        "import tensorflow as tf\n",
        "import numpy as np\n",
        "# from google.colab import drive\n",
        "# drive.mount('/content/drive')"
      ]
    },
    {
      "cell_type": "code",
      "execution_count": 3,
      "metadata": {
        "id": "PqqyOJYUmpu8"
      },
      "outputs": [
        {
          "name": "stderr",
          "output_type": "stream",
          "text": [
            "c:\\Users\\jsaur\\anaconda3\\envs\\ENV1\\lib\\site-packages\\tqdm\\auto.py:22: TqdmWarning: IProgress not found. Please update jupyter and ipywidgets. See https://ipywidgets.readthedocs.io/en/stable/user_install.html\n",
            "  from .autonotebook import tqdm as notebook_tqdm\n"
          ]
        }
      ],
      "source": [
        "from recomendaciones_comsint import Recomendador"
      ]
    },
    {
      "attachments": {},
      "cell_type": "markdown",
      "metadata": {},
      "source": [
        "## Con tamaño embeddings 256\n",
        "- CNN de max 512 kernels (v4)"
      ]
    },
    {
      "cell_type": "code",
      "execution_count": 4,
      "metadata": {},
      "outputs": [
        {
          "name": "stdout",
          "output_type": "stream",
          "text": [
            "[PhysicalDevice(name='/physical_device:GPU:0', device_type='GPU')]\n",
            "No se encontró el modelo Modelos/Modelo_Nut_FV_DistilBERT_04_EMBED-256_CNN.h5\n",
            "Puedes crear uno nuevo con el método EntrenarModelo()\n",
            "\n"
          ]
        }
      ],
      "source": [
        "version = 4\n",
        "\n",
        "recomendador256 = Recomendador(fuente='recetario_mexicano_small.csv',\n",
        "                            nutricion = 'nutricion.csv',\n",
        "                            canasta='canasta_basica.csv')\n",
        "\n",
        "recomendador256.CargarModelo(emb_size=256, version=version)"
      ]
    },
    {
      "cell_type": "code",
      "execution_count": 5,
      "metadata": {},
      "outputs": [
        {
          "name": "stdout",
          "output_type": "stream",
          "text": [
            "Generando 1  recetas aleatorias...\n",
            "\n"
          ]
        },
        {
          "name": "stderr",
          "output_type": "stream",
          "text": [
            "100%|██████████| 1/1 [00:00<00:00,  5.60it/s]\n"
          ]
        },
        {
          "data": {
            "text/plain": [
              "array([['4 piezas de cordero  frito  cocinado  cerebro  carnes de variedades y subproductos, 10 piezas de keebler  suave  galleta de pasas de avena  tesoros de panaderos, 9 gramos de ternera  cruda  separable solamente  hueso  frente  vástago  australiano, 10 cucharadas de ternera  frita  cocinada  hígado  carnes de variedades y subproductos, 3 gramos de frijoles  sólidos drenados  paquete regular  enlatado  verde  chasquido, 5 tazas de suero  fluido  dulce',\n",
              "        '5304.28', '691.19', '130.78', '228.45']], dtype='<U452')"
            ]
          },
          "execution_count": 5,
          "metadata": {},
          "output_type": "execute_result"
        }
      ],
      "source": [
        "recomendador256.generar_dataset_entrenamiento_nut(df_nutricionales='nutricion.csv', \n",
        "                                                  min_ingredientes=5, max_ingredientes=11,\n",
        "                                                  min_unidades=1, max_unidades=11,\n",
        "                                                  numero_recetas=1)"
      ]
    },
    {
      "cell_type": "code",
      "execution_count": 6,
      "metadata": {
        "colab": {
          "base_uri": "https://localhost:8080/"
        },
        "id": "bEJi_jszmzf9",
        "outputId": "040f86a7-dbbe-43d2-a00d-fece49e9e4d2"
      },
      "outputs": [
        {
          "name": "stdout",
          "output_type": "stream",
          "text": [
            "\n",
            "ITERACIÓN: 1\n",
            "min unidades: 1  max unidades: 11\n",
            "Entrenando desde epoch 0\n",
            "------------------------------------------\n",
            "\n",
            "Error al cargar archivos NumPy.\n",
            "datasets/numpy/10000_recetas_random_EMBED-256_DATA_X.npy no existe o está corrupto.\n",
            "datasets/numpy/10000_recetas_random_EMBED-256_DATA_Y.npy no existe o está corrupto.\n",
            "Generando 10000  recetas aleatorias...\n",
            "\n"
          ]
        },
        {
          "name": "stderr",
          "output_type": "stream",
          "text": [
            "100%|██████████| 10000/10000 [00:14<00:00, 672.02it/s]\n"
          ]
        },
        {
          "name": "stdout",
          "output_type": "stream",
          "text": [
            "Calculando vector de características de 10000 recetas...\n"
          ]
        },
        {
          "name": "stderr",
          "output_type": "stream",
          "text": [
            "100%|██████████| 10000/10000 [9:00:25<00:00,  3.24s/it] \n"
          ]
        },
        {
          "name": "stdout",
          "output_type": "stream",
          "text": [
            "Error al cargar archivos NumPy.\n",
            "datasets/numpy/9_TEST_EMBED-256_DATA_X.npy no existe o está corrupto.\n",
            "datasets/numpy/9_TEST_EMBED-256_DATA_Y.npy no existe o está corrupto.\n",
            "Procesando dataset de testing...\n",
            "Procesando recetas_test.csv\n"
          ]
        },
        {
          "name": "stderr",
          "output_type": "stream",
          "text": [
            "100%|██████████| 9/9 [00:00<00:00, 1002.70it/s]\n"
          ]
        },
        {
          "name": "stdout",
          "output_type": "stream",
          "text": [
            "Calculando vector de características de 9 recetas...\n"
          ]
        },
        {
          "name": "stderr",
          "output_type": "stream",
          "text": [
            "100%|██████████| 9/9 [00:27<00:00,  3.06s/it]\n"
          ]
        },
        {
          "name": "stdout",
          "output_type": "stream",
          "text": [
            "Error al cargar archivos NumPy.\n",
            "datasets/numpy/7_VAL_EMBED-256_DATA_X.npy no existe o está corrupto.\n",
            "datasets/numpy/7_VAL_EMBED-256_DATA_Y.npy no existe o está corrupto.\n",
            "Procesando dataset de validación...\n",
            "Procesando recetas_val.csv\n"
          ]
        },
        {
          "name": "stderr",
          "output_type": "stream",
          "text": [
            "100%|██████████| 7/7 [00:00<00:00, 7013.89it/s]\n"
          ]
        },
        {
          "name": "stdout",
          "output_type": "stream",
          "text": [
            "Calculando vector de características de 7 recetas...\n"
          ]
        },
        {
          "name": "stderr",
          "output_type": "stream",
          "text": [
            "100%|██████████| 7/7 [00:23<00:00,  3.36s/it]\n"
          ]
        },
        {
          "name": "stdout",
          "output_type": "stream",
          "text": [
            "Model: \"ModeloCNNNut_128\"\n",
            "_________________________________________________________________\n",
            " Layer (type)                Output Shape              Param #   \n",
            "=================================================================\n",
            " CapaEntrada (InputLayer)    [(None, 196608)]          0         \n",
            "                                                                 \n",
            " RESHAPING (Reshape)         (None, 256, 768)          0         \n",
            "                                                                 \n",
            " batch_normalization (BatchN  (None, 256, 768)         3072      \n",
            " ormalization)                                                   \n",
            "                                                                 \n",
            " CONV_1 (Conv1D)             (None, 252, 512)          1966592   \n",
            "                                                                 \n",
            " POOLING_1 (MaxPooling1D)    (None, 251, 512)          0         \n",
            "                                                                 \n",
            " CONV_2 (Conv1D)             (None, 249, 256)          393472    \n",
            "                                                                 \n",
            " POOLING_2 (MaxPooling1D)    (None, 248, 256)          0         \n",
            "                                                                 \n",
            " CONV_3 (Conv1D)             (None, 246, 128)          98432     \n",
            "                                                                 \n",
            " POOLING_3 (MaxPooling1D)    (None, 245, 128)          0         \n",
            "                                                                 \n",
            " dropout_190304 (Dropout)    (None, 245, 128)          0         \n",
            "                                                                 \n",
            " flatten (Flatten)           (None, 31360)             0         \n",
            "                                                                 \n",
            " dense (Dense)               (None, 256)               8028416   \n",
            "                                                                 \n",
            " dense_1 (Dense)             (None, 128)               32896     \n",
            "                                                                 \n",
            " dense_2 (Dense)             (None, 64)                8256      \n",
            "                                                                 \n",
            " dropout_190305 (Dropout)    (None, 64)                0         \n",
            "                                                                 \n",
            " CapaSalida (Dense)          (None, 4)                 260       \n",
            "                                                                 \n",
            "=================================================================\n",
            "Total params: 10,531,396\n",
            "Trainable params: 10,529,860\n",
            "Non-trainable params: 1,536\n",
            "_________________________________________________________________\n",
            "Epoch 1/100\n",
            "1250/1250 [==============================] - 341s 270ms/step - loss: 344.6891 - mae: 344.6891 - val_loss: 242.6948 - val_mae: 242.6948\n",
            "Epoch 2/100\n",
            "1250/1250 [==============================] - 336s 268ms/step - loss: 279.0425 - mae: 279.0425 - val_loss: 245.8930 - val_mae: 245.8930\n",
            "Epoch 3/100\n",
            "1250/1250 [==============================] - 340s 272ms/step - loss: 254.0899 - mae: 254.0899 - val_loss: 240.1241 - val_mae: 240.1241\n",
            "Epoch 4/100\n",
            "1250/1250 [==============================] - 337s 270ms/step - loss: 232.4010 - mae: 232.4010 - val_loss: 239.1127 - val_mae: 239.1127\n",
            "Epoch 5/100\n",
            "1250/1250 [==============================] - 338s 270ms/step - loss: 221.0270 - mae: 221.0270 - val_loss: 239.7261 - val_mae: 239.7261\n",
            "Epoch 6/100\n",
            "1250/1250 [==============================] - 345s 276ms/step - loss: 210.2949 - mae: 210.2949 - val_loss: 233.3443 - val_mae: 233.3443\n",
            "Epoch 7/100\n",
            "1250/1250 [==============================] - 333s 266ms/step - loss: 202.0571 - mae: 202.0571 - val_loss: 240.9693 - val_mae: 240.9693\n",
            "Epoch 8/100\n",
            "1250/1250 [==============================] - 316s 253ms/step - loss: 194.8721 - mae: 194.8721 - val_loss: 239.6438 - val_mae: 239.6438\n",
            "Epoch 9/100\n",
            "1250/1250 [==============================] - 321s 257ms/step - loss: 187.5336 - mae: 187.5336 - val_loss: 239.7766 - val_mae: 239.7766\n",
            "Epoch 10/100\n",
            "1250/1250 [==============================] - 316s 253ms/step - loss: 179.8125 - mae: 179.8125 - val_loss: 240.6732 - val_mae: 240.6732\n",
            "Epoch 11/100\n",
            "1250/1250 [==============================] - 315s 252ms/step - loss: 172.0587 - mae: 172.0587 - val_loss: 242.1400 - val_mae: 242.1400\n",
            "Epoch 12/100\n",
            "1250/1250 [==============================] - 315s 252ms/step - loss: 167.4346 - mae: 167.4346 - val_loss: 241.3003 - val_mae: 241.3003\n",
            "Epoch 13/100\n",
            "1250/1250 [==============================] - 315s 252ms/step - loss: 159.4424 - mae: 159.4424 - val_loss: 241.3939 - val_mae: 241.3939\n",
            "Epoch 14/100\n",
            "1250/1250 [==============================] - 317s 254ms/step - loss: 153.1585 - mae: 153.1585 - val_loss: 240.4073 - val_mae: 240.4073\n",
            "Epoch 15/100\n",
            "1250/1250 [==============================] - 314s 251ms/step - loss: 150.3706 - mae: 150.3706 - val_loss: 237.5063 - val_mae: 237.5063\n",
            "Epoch 16/100\n",
            "1250/1250 [==============================] - 328s 262ms/step - loss: 145.5339 - mae: 145.5339 - val_loss: 233.6325 - val_mae: 233.6325\n",
            "Epoch 17/100\n",
            "1250/1250 [==============================] - 337s 270ms/step - loss: 137.8360 - mae: 137.8360 - val_loss: 237.0273 - val_mae: 237.0273\n",
            "Epoch 18/100\n",
            "1250/1250 [==============================] - 339s 272ms/step - loss: 134.9133 - mae: 134.9133 - val_loss: 236.6314 - val_mae: 236.6314\n",
            "Epoch 19/100\n",
            "1250/1250 [==============================] - 340s 272ms/step - loss: 131.0372 - mae: 131.0372 - val_loss: 231.4761 - val_mae: 231.4761\n",
            "Epoch 20/100\n",
            "1250/1250 [==============================] - 347s 278ms/step - loss: 124.3186 - mae: 124.3186 - val_loss: 235.5307 - val_mae: 235.5307\n",
            "Epoch 21/100\n",
            "1250/1250 [==============================] - 339s 271ms/step - loss: 124.6669 - mae: 124.6669 - val_loss: 236.5079 - val_mae: 236.5079\n",
            "Epoch 22/100\n",
            "1250/1250 [==============================] - 342s 273ms/step - loss: 119.4595 - mae: 119.4595 - val_loss: 237.4703 - val_mae: 237.4703\n",
            "Epoch 23/100\n",
            "1250/1250 [==============================] - 341s 273ms/step - loss: 117.4808 - mae: 117.4808 - val_loss: 234.3877 - val_mae: 234.3877\n",
            "Epoch 24/100\n",
            "1250/1250 [==============================] - 341s 273ms/step - loss: 114.2093 - mae: 114.2093 - val_loss: 236.2543 - val_mae: 236.2543\n",
            "Epoch 25/100\n",
            "1250/1250 [==============================] - 342s 273ms/step - loss: 111.0809 - mae: 111.0809 - val_loss: 238.5179 - val_mae: 238.5179\n",
            "Epoch 26/100\n",
            "1250/1250 [==============================] - 343s 275ms/step - loss: 107.9812 - mae: 107.9812 - val_loss: 237.4908 - val_mae: 237.4908\n",
            "Epoch 27/100\n",
            "1250/1250 [==============================] - 345s 276ms/step - loss: 106.0975 - mae: 106.0975 - val_loss: 236.2018 - val_mae: 236.2018\n",
            "Epoch 28/100\n",
            "1250/1250 [==============================] - 337s 270ms/step - loss: 104.3469 - mae: 104.3469 - val_loss: 235.3432 - val_mae: 235.3432\n",
            "Epoch 29/100\n",
            "1250/1250 [==============================] - 337s 270ms/step - loss: 103.3778 - mae: 103.3778 - val_loss: 236.2988 - val_mae: 236.2988\n",
            "Epoch 30/100\n",
            "1250/1250 [==============================] - 341s 273ms/step - loss: 99.1609 - mae: 99.1609 - val_loss: 235.1609 - val_mae: 235.1609\n",
            "Epoch 31/100\n",
            "1250/1250 [==============================] - 337s 270ms/step - loss: 98.3705 - mae: 98.3705 - val_loss: 237.6475 - val_mae: 237.6475\n",
            "Epoch 32/100\n",
            "1250/1250 [==============================] - 339s 271ms/step - loss: 98.3061 - mae: 98.3061 - val_loss: 239.4636 - val_mae: 239.4636\n",
            "Epoch 33/100\n",
            "1250/1250 [==============================] - 336s 268ms/step - loss: 94.2300 - mae: 94.2300 - val_loss: 240.1973 - val_mae: 240.1973\n",
            "Epoch 34/100\n",
            "1250/1250 [==============================] - 334s 267ms/step - loss: 95.0210 - mae: 95.0210 - val_loss: 234.9918 - val_mae: 234.9918\n",
            "Epoch 35/100\n",
            "1250/1250 [==============================] - 334s 267ms/step - loss: 93.8848 - mae: 93.8848 - val_loss: 231.3443 - val_mae: 231.3443\n",
            "Epoch 36/100\n",
            "1250/1250 [==============================] - 335s 268ms/step - loss: 90.8995 - mae: 90.8995 - val_loss: 238.4680 - val_mae: 238.4680\n",
            "Epoch 37/100\n",
            "1250/1250 [==============================] - 334s 267ms/step - loss: 89.4279 - mae: 89.4279 - val_loss: 236.7662 - val_mae: 236.7662\n",
            "Epoch 38/100\n",
            "1250/1250 [==============================] - 341s 273ms/step - loss: 88.2655 - mae: 88.2655 - val_loss: 239.5560 - val_mae: 239.5560\n",
            "Epoch 39/100\n",
            "1250/1250 [==============================] - 333s 267ms/step - loss: 89.2322 - mae: 89.2322 - val_loss: 236.8986 - val_mae: 236.8986\n",
            "Epoch 40/100\n",
            "1250/1250 [==============================] - 334s 267ms/step - loss: 87.6680 - mae: 87.6680 - val_loss: 240.3041 - val_mae: 240.3041\n",
            "Epoch 41/100\n",
            "1250/1250 [==============================] - 337s 270ms/step - loss: 88.2319 - mae: 88.2319 - val_loss: 238.6962 - val_mae: 238.6962\n",
            "Epoch 42/100\n",
            "1250/1250 [==============================] - 334s 267ms/step - loss: 87.3722 - mae: 87.3722 - val_loss: 239.9581 - val_mae: 239.9581\n",
            "Epoch 43/100\n",
            "1250/1250 [==============================] - 334s 267ms/step - loss: 85.5695 - mae: 85.5695 - val_loss: 239.2786 - val_mae: 239.2786\n",
            "Epoch 44/100\n",
            "1250/1250 [==============================] - 341s 273ms/step - loss: 83.5140 - mae: 83.5140 - val_loss: 241.0279 - val_mae: 241.0279\n",
            "Epoch 45/100\n",
            "1250/1250 [==============================] - 342s 274ms/step - loss: 83.7660 - mae: 83.7660 - val_loss: 234.8177 - val_mae: 234.8177\n",
            "Epoch 46/100\n",
            "1250/1250 [==============================] - 334s 267ms/step - loss: 82.7314 - mae: 82.7314 - val_loss: 240.2303 - val_mae: 240.2303\n",
            "Epoch 47/100\n",
            "1250/1250 [==============================] - 332s 266ms/step - loss: 82.7127 - mae: 82.7127 - val_loss: 240.5102 - val_mae: 240.5102\n",
            "Epoch 48/100\n",
            "1250/1250 [==============================] - 334s 267ms/step - loss: 83.7236 - mae: 83.7236 - val_loss: 239.5612 - val_mae: 239.5612\n",
            "Epoch 49/100\n",
            "1250/1250 [==============================] - 333s 267ms/step - loss: 80.8609 - mae: 80.8609 - val_loss: 238.2558 - val_mae: 238.2558\n",
            "Epoch 50/100\n",
            "1250/1250 [==============================] - 336s 269ms/step - loss: 80.9951 - mae: 80.9951 - val_loss: 240.0745 - val_mae: 240.0745\n",
            "Epoch 51/100\n",
            "1250/1250 [==============================] - 336s 269ms/step - loss: 81.4120 - mae: 81.4120 - val_loss: 240.2955 - val_mae: 240.2955\n",
            "Epoch 52/100\n",
            "1250/1250 [==============================] - 332s 266ms/step - loss: 80.2227 - mae: 80.2227 - val_loss: 238.5499 - val_mae: 238.5499\n",
            "Epoch 53/100\n",
            "1250/1250 [==============================] - 331s 265ms/step - loss: 80.3661 - mae: 80.3661 - val_loss: 238.9395 - val_mae: 238.9395\n",
            "Epoch 54/100\n",
            "1250/1250 [==============================] - 330s 264ms/step - loss: 79.8462 - mae: 79.8462 - val_loss: 238.7308 - val_mae: 238.7308\n",
            "Epoch 55/100\n",
            "1250/1250 [==============================] - 331s 265ms/step - loss: 78.8596 - mae: 78.8596 - val_loss: 239.0528 - val_mae: 239.0528\n",
            "Epoch 56/100\n",
            "1250/1250 [==============================] - 335s 268ms/step - loss: 78.1024 - mae: 78.1024 - val_loss: 235.6095 - val_mae: 235.6095\n",
            "Epoch 57/100\n",
            "1250/1250 [==============================] - 333s 266ms/step - loss: 77.3569 - mae: 77.3569 - val_loss: 239.2290 - val_mae: 239.2290\n",
            "Epoch 58/100\n",
            "1250/1250 [==============================] - 334s 267ms/step - loss: 77.9099 - mae: 77.9099 - val_loss: 238.8689 - val_mae: 238.8689\n",
            "Epoch 59/100\n",
            "1250/1250 [==============================] - 330s 264ms/step - loss: 76.9216 - mae: 76.9216 - val_loss: 237.8235 - val_mae: 237.8235\n",
            "Epoch 60/100\n",
            "1250/1250 [==============================] - 331s 265ms/step - loss: 76.3309 - mae: 76.3309 - val_loss: 237.8190 - val_mae: 237.8190\n",
            "Epoch 61/100\n",
            "1250/1250 [==============================] - 336s 269ms/step - loss: 76.6981 - mae: 76.6981 - val_loss: 239.0432 - val_mae: 239.0432\n",
            "Epoch 62/100\n",
            "1250/1250 [==============================] - 336s 269ms/step - loss: 76.7765 - mae: 76.7765 - val_loss: 241.2458 - val_mae: 241.2458\n",
            "Epoch 63/100\n",
            "1250/1250 [==============================] - 335s 268ms/step - loss: 75.7141 - mae: 75.7141 - val_loss: 239.3573 - val_mae: 239.3573\n",
            "Epoch 64/100\n",
            "1250/1250 [==============================] - 332s 266ms/step - loss: 76.6173 - mae: 76.6173 - val_loss: 241.6577 - val_mae: 241.6577\n",
            "Epoch 65/100\n",
            "1250/1250 [==============================] - 330s 264ms/step - loss: 75.3117 - mae: 75.3117 - val_loss: 241.2462 - val_mae: 241.2462\n",
            "Epoch 66/100\n",
            "1250/1250 [==============================] - 331s 265ms/step - loss: 73.9142 - mae: 73.9142 - val_loss: 239.2072 - val_mae: 239.2072\n",
            "Epoch 67/100\n",
            "1250/1250 [==============================] - 332s 265ms/step - loss: 74.6664 - mae: 74.6664 - val_loss: 241.9534 - val_mae: 241.9534\n",
            "Epoch 68/100\n",
            "1250/1250 [==============================] - 336s 269ms/step - loss: 74.9020 - mae: 74.9020 - val_loss: 242.8406 - val_mae: 242.8406\n",
            "Epoch 69/100\n",
            "1250/1250 [==============================] - 331s 264ms/step - loss: 73.0155 - mae: 73.0155 - val_loss: 243.4446 - val_mae: 243.4446\n",
            "Epoch 70/100\n",
            "1250/1250 [==============================] - 332s 266ms/step - loss: 72.6646 - mae: 72.6646 - val_loss: 243.9533 - val_mae: 243.9533\n",
            "Epoch 71/100\n",
            "1250/1250 [==============================] - 332s 265ms/step - loss: 72.3223 - mae: 72.3223 - val_loss: 244.4281 - val_mae: 244.4281\n",
            "Epoch 72/100\n",
            "1250/1250 [==============================] - 332s 266ms/step - loss: 72.1338 - mae: 72.1338 - val_loss: 244.3652 - val_mae: 244.3652\n",
            "Epoch 73/100\n",
            "1250/1250 [==============================] - 334s 267ms/step - loss: 71.9303 - mae: 71.9303 - val_loss: 243.2426 - val_mae: 243.2426\n",
            "Epoch 74/100\n",
            "1250/1250 [==============================] - 333s 266ms/step - loss: 71.5000 - mae: 71.5000 - val_loss: 242.0089 - val_mae: 242.0089\n",
            "Epoch 75/100\n",
            "1250/1250 [==============================] - 329s 263ms/step - loss: 70.4695 - mae: 70.4695 - val_loss: 243.1197 - val_mae: 243.1197\n",
            "Epoch 76/100\n",
            "1250/1250 [==============================] - 329s 263ms/step - loss: 71.6289 - mae: 71.6289 - val_loss: 241.7990 - val_mae: 241.7990\n",
            "Epoch 77/100\n",
            "1250/1250 [==============================] - 329s 263ms/step - loss: 71.4937 - mae: 71.4937 - val_loss: 242.9685 - val_mae: 242.9685\n",
            "Epoch 78/100\n",
            "1250/1250 [==============================] - 328s 262ms/step - loss: 72.2154 - mae: 72.2154 - val_loss: 240.7703 - val_mae: 240.7703\n",
            "Epoch 79/100\n",
            "1250/1250 [==============================] - 330s 264ms/step - loss: 72.2149 - mae: 72.2149 - val_loss: 241.8066 - val_mae: 241.8066\n",
            "Epoch 80/100\n",
            "1250/1250 [==============================] - 333s 267ms/step - loss: 71.4843 - mae: 71.4843 - val_loss: 243.5994 - val_mae: 243.5994\n",
            "Epoch 81/100\n",
            "1250/1250 [==============================] - 331s 265ms/step - loss: 71.6794 - mae: 71.6794 - val_loss: 241.6401 - val_mae: 241.6401\n",
            "Epoch 82/100\n",
            "1250/1250 [==============================] - 329s 263ms/step - loss: 70.0473 - mae: 70.0473 - val_loss: 242.1810 - val_mae: 242.1810\n",
            "Epoch 83/100\n",
            "1250/1250 [==============================] - 328s 262ms/step - loss: 69.7075 - mae: 69.7075 - val_loss: 240.6312 - val_mae: 240.6312\n",
            "Epoch 84/100\n",
            "1250/1250 [==============================] - 334s 268ms/step - loss: 70.3921 - mae: 70.3921 - val_loss: 240.5543 - val_mae: 240.5543\n",
            "Epoch 85/100\n",
            "1250/1250 [==============================] - 330s 264ms/step - loss: 70.7017 - mae: 70.7017 - val_loss: 242.7889 - val_mae: 242.7889\n",
            "Epoch 86/100\n",
            "1250/1250 [==============================] - 336s 269ms/step - loss: 69.1934 - mae: 69.1934 - val_loss: 244.9762 - val_mae: 244.9762\n",
            "Epoch 87/100\n",
            "1250/1250 [==============================] - 330s 264ms/step - loss: 70.0217 - mae: 70.0217 - val_loss: 245.3098 - val_mae: 245.3098\n",
            "Epoch 88/100\n",
            "1250/1250 [==============================] - 331s 265ms/step - loss: 69.0467 - mae: 69.0467 - val_loss: 244.3873 - val_mae: 244.3873\n",
            "Epoch 89/100\n",
            "1250/1250 [==============================] - 328s 263ms/step - loss: 69.7347 - mae: 69.7347 - val_loss: 241.4243 - val_mae: 241.4243\n",
            "Epoch 90/100\n",
            "1250/1250 [==============================] - 330s 264ms/step - loss: 68.9375 - mae: 68.9375 - val_loss: 242.2707 - val_mae: 242.2707\n",
            "Epoch 91/100\n",
            "1250/1250 [==============================] - 329s 263ms/step - loss: 69.6639 - mae: 69.6639 - val_loss: 245.3829 - val_mae: 245.3829\n",
            "Epoch 92/100\n",
            "1250/1250 [==============================] - 334s 267ms/step - loss: 68.5412 - mae: 68.5412 - val_loss: 240.9503 - val_mae: 240.9503\n",
            "Epoch 93/100\n",
            "1250/1250 [==============================] - 332s 265ms/step - loss: 68.6425 - mae: 68.6425 - val_loss: 241.5789 - val_mae: 241.5789\n",
            "Epoch 94/100\n",
            "1250/1250 [==============================] - 332s 265ms/step - loss: 68.6131 - mae: 68.6131 - val_loss: 244.8445 - val_mae: 244.8445\n",
            "Epoch 95/100\n",
            "1250/1250 [==============================] - 345s 276ms/step - loss: 69.0548 - mae: 69.0548 - val_loss: 245.1523 - val_mae: 245.1523\n",
            "Epoch 96/100\n",
            "1250/1250 [==============================] - 332s 266ms/step - loss: 68.9021 - mae: 68.9021 - val_loss: 243.7441 - val_mae: 243.7441\n",
            "Epoch 97/100\n",
            "1250/1250 [==============================] - 333s 266ms/step - loss: 68.1584 - mae: 68.1584 - val_loss: 243.6774 - val_mae: 243.6774\n",
            "Epoch 98/100\n",
            "1250/1250 [==============================] - 337s 269ms/step - loss: 67.2835 - mae: 67.2835 - val_loss: 243.2932 - val_mae: 243.2932\n",
            "Epoch 99/100\n",
            "1250/1250 [==============================] - 336s 269ms/step - loss: 68.2462 - mae: 68.2462 - val_loss: 242.3905 - val_mae: 242.3905\n",
            "Epoch 100/100\n",
            "1250/1250 [==============================] - 333s 266ms/step - loss: 68.3203 - mae: 68.3203 - val_loss: 243.8442 - val_mae: 243.8442\n",
            "modelo guardado en: Modelos/Modelo_Nut_FV_DistilBERT_04_EMBED-256_CNN.h5\n"
          ]
        },
        {
          "data": {
            "image/png": "[encoded data removed]",
            "text/plain": [
              "<Figure size 432x288 with 1 Axes>"
            ]
          },
          "metadata": {
            "needs_background": "light"
          },
          "output_type": "display_data"
        },
        {
          "name": "stdout",
          "output_type": "stream",
          "text": [
            "1/1 [==============================] - 0s 227ms/step - loss: 210.6573 - mae: 210.6573\n",
            "[210.65725708007812, 210.65725708007812]\n",
            "1/1 [==============================] - 3s 3s/step\n",
            "receta 0 kcal_true: 324.0 kcal_pred: 56.01881  precisión: 17.3 %\n",
            "receta 0 carbohydrate_true: 76.0 carbohydrate_pred: 12.528038  precisión: 16.5 %\n",
            "receta 0 protein_true: 8.0 protein_pred: 1.5622847  precisión: 19.5 %\n",
            "receta 0 total_fat_true: 0.0 total_fat_pred: 0.47094882  precisión: 0.0 %\n",
            "---------------------------------------------------------------------------\n",
            "receta 1 kcal_true: 436.0 kcal_pred: 54.643818  precisión: 12.5 %\n",
            "receta 1 carbohydrate_true: 96.0 carbohydrate_pred: 8.7157135  precisión: 9.1 %\n",
            "receta 1 protein_true: 8.0 protein_pred: 1.6889826  precisión: 21.1 %\n",
            "receta 1 total_fat_true: 4.0 total_fat_pred: 1.5595417  precisión: 39.0 %\n",
            "---------------------------------------------------------------------------\n",
            "receta 2 kcal_true: 846.0 kcal_pred: 58.25929  precisión: 6.9 %\n",
            "receta 2 carbohydrate_true: 72.0 carbohydrate_pred: 11.18458  precisión: 15.5 %\n",
            "receta 2 protein_true: 96.0 protein_pred: 1.8757222  precisión: 2.0 %\n",
            "receta 2 total_fat_true: 24.0 total_fat_pred: 0.9804923  precisión: 4.1 %\n",
            "---------------------------------------------------------------------------\n",
            "receta 3 kcal_true: 376.0 kcal_pred: 58.49105  precisión: 15.6 %\n",
            "receta 3 carbohydrate_true: 76.0 carbohydrate_pred: 12.101584  precisión: 15.9 %\n",
            "receta 3 protein_true: 12.0 protein_pred: 1.5628402  precisión: 13.0 %\n",
            "receta 3 total_fat_true: 8.0 total_fat_pred: 0.81763524  precisión: 10.2 %\n",
            "---------------------------------------------------------------------------\n",
            "receta 4 kcal_true: 1072.0 kcal_pred: 149.5463  precisión: 14.0 %\n",
            "receta 4 carbohydrate_true: 136.0 carbohydrate_pred: 32.253246  precisión: 23.7 %\n",
            "receta 4 protein_true: 40.0 protein_pred: 3.1279826  precisión: 7.8 %\n",
            "receta 4 total_fat_true: 48.0 total_fat_pred: 1.7440401  precisión: 3.6 %\n",
            "---------------------------------------------------------------------------\n",
            "receta 5 kcal_true: 584.0 kcal_pred: 54.051933  precisión: 9.3 %\n",
            "receta 5 carbohydrate_true: 132.0 carbohydrate_pred: 13.358159  precisión: 10.1 %\n",
            "receta 5 protein_true: 16.0 protein_pred: 1.3980274  precisión: 8.7 %\n",
            "receta 5 total_fat_true: 4.0 total_fat_pred: 0.0  precisión: 0.0 %\n",
            "---------------------------------------------------------------------------\n",
            "receta 6 kcal_true: 1668.0 kcal_pred: 100.10096  precisión: 6.0 %\n",
            "receta 6 carbohydrate_true: 336.0 carbohydrate_pred: 20.771854  precisión: 6.2 %\n",
            "receta 6 protein_true: 24.0 protein_pred: 1.7247629  precisión: 7.2 %\n",
            "receta 6 total_fat_true: 36.0 total_fat_pred: 0.0  precisión: 0.0 %\n",
            "---------------------------------------------------------------------------\n",
            "Precisión promedio aprox. =  11.24 %\n"
          ]
        }
      ],
      "source": [
        "recomendador256.NUM_RECETAS = 10000\n",
        "recomendador256.EMB_SIZE = 256\n",
        "BATCHSIZE = 32\n",
        "ITER = 1\n",
        "INITIAL_EPOCH = 0\n",
        "EPOCHS = recomendador256.NUM_RECETAS // BATCHSIZE\n",
        "LR = 1e-5\n",
        "\n",
        "Histories = []\n",
        "for iteracion in range(ITER):\n",
        "  MINU = 1 \n",
        "  MAXU = 11   \n",
        "  print('\\nITERACIÓN:', iteracion+1)\n",
        "  print('min unidades:',MINU, ' max unidades:', MAXU)\n",
        "  print('Entrenando desde epoch', INITIAL_EPOCH)\n",
        "  print('------------------------------------------\\n')\n",
        "  modelo256, history = recomendador256.EntrenarModelo(df_nutricionales='nutricion.csv',\n",
        "                                #df_training='recipes_con_info_nutricional.csv',\n",
        "                                df_test='recetas_test.csv', \n",
        "                                df_val='recetas_val.csv',\n",
        "                                learning_rate=LR,\n",
        "                                version=version, \n",
        "                                initial_epoch = INITIAL_EPOCH,                             \n",
        "                                epochs=INITIAL_EPOCH + EPOCHS,\n",
        "                                batch_size=BATCHSIZE, \n",
        "                                kernels=128,                                             \n",
        "                                min_ingredientes=5, max_ingredientes=11,\n",
        "                                min_unidades=MINU, max_unidades=MAXU,                               \n",
        "                                save=True, verbose=True)\n",
        "  INITIAL_EPOCH = history.epoch[-1]\n",
        "\n",
        "  Histories.append(history)\n"
      ]
    },
    {
      "cell_type": "code",
      "execution_count": 7,
      "metadata": {},
      "outputs": [
        {
          "data": {
            "image/png": "[encoded data removed]",
            "text/plain": [
              "<Figure size 432x288 with 1 Axes>"
            ]
          },
          "metadata": {
            "needs_background": "light"
          },
          "output_type": "display_data"
        },
        {
          "name": "stdout",
          "output_type": "stream",
          "text": [
            "LOSS: 68.32029724121094  -- MAE: 68.32029724121094  -- VAL_LOSS: 243.8441619873047  -- VAL_MAE: 243.8441619873047\n",
            "----------------------------------------------------------\n"
          ]
        }
      ],
      "source": [
        "for i in range(len(Histories)):\n",
        "    history = Histories[i]    \n",
        "    pd.DataFrame(history.history).plot()\n",
        "    plt.title('ITERACIÓN ' + str(i))\n",
        "    plt.show()\n",
        "    print('LOSS:',history.history['loss'][-1], ' -- MAE:', history.history['mae'][-1], \n",
        "          ' -- VAL_LOSS:', history.history['val_loss'][-1], ' -- VAL_MAE:', history.history['val_mae'][-1])\n",
        "    print('----------------------------------------------------------')"
      ]
    },
    {
      "cell_type": "code",
      "execution_count": 8,
      "metadata": {},
      "outputs": [
        {
          "name": "stdout",
          "output_type": "stream",
          "text": [
            "Cargado dataset de entrenamiento: datasets/recipes_con_info_nutricional.csv\n",
            "1090 recetas encontradas.\n",
            "Calculando vector de características de 1090 recetas...\n"
          ]
        },
        {
          "name": "stderr",
          "output_type": "stream",
          "text": [
            "100%|██████████| 1090/1090 [1:18:38<00:00,  4.33s/it] \n"
          ]
        },
        {
          "name": "stdout",
          "output_type": "stream",
          "text": [
            "datasets/numpy/9_TEST_EMBED-256_DATA_X.npy cargado con éxito.\n",
            "datasets/numpy/9_TEST_EMBED-256_DATA_Y.npy cargado con éxito.\n",
            "datasets/numpy/7_VAL_EMBED-256_DATA_X.npy cargado con éxito.\n",
            "datasets/numpy/7_VAL_EMBED-256_DATA_Y.npy cargado con éxito.\n",
            "Model: \"ModeloCNNNut_128\"\n",
            "_________________________________________________________________\n",
            " Layer (type)                Output Shape              Param #   \n",
            "=================================================================\n",
            " CapaEntrada (InputLayer)    [(None, 196608)]          0         \n",
            "                                                                 \n",
            " RESHAPING (Reshape)         (None, 256, 768)          0         \n",
            "                                                                 \n",
            " batch_normalization_1 (Batc  (None, 256, 768)         3072      \n",
            " hNormalization)                                                 \n",
            "                                                                 \n",
            " CONV_1 (Conv1D)             (None, 252, 512)          1966592   \n",
            "                                                                 \n",
            " POOLING_1 (MaxPooling1D)    (None, 251, 512)          0         \n",
            "                                                                 \n",
            " CONV_2 (Conv1D)             (None, 249, 256)          393472    \n",
            "                                                                 \n",
            " POOLING_2 (MaxPooling1D)    (None, 248, 256)          0         \n",
            "                                                                 \n",
            " CONV_3 (Conv1D)             (None, 246, 128)          98432     \n",
            "                                                                 \n",
            " POOLING_3 (MaxPooling1D)    (None, 245, 128)          0         \n",
            "                                                                 \n",
            " dropout_211016 (Dropout)    (None, 245, 128)          0         \n",
            "                                                                 \n",
            " flatten_1 (Flatten)         (None, 31360)             0         \n",
            "                                                                 \n",
            " dense_3 (Dense)             (None, 256)               8028416   \n",
            "                                                                 \n",
            " dense_4 (Dense)             (None, 128)               32896     \n",
            "                                                                 \n",
            " dense_5 (Dense)             (None, 64)                8256      \n",
            "                                                                 \n",
            " dropout_211017 (Dropout)    (None, 64)                0         \n",
            "                                                                 \n",
            " CapaSalida (Dense)          (None, 4)                 260       \n",
            "                                                                 \n",
            "=================================================================\n",
            "Total params: 10,531,396\n",
            "Trainable params: 10,529,860\n",
            "Non-trainable params: 1,536\n",
            "_________________________________________________________________\n",
            "Epoch 100/199\n",
            "137/137 [==============================] - 36s 259ms/step - loss: 53.1487 - mae: 53.1487 - val_loss: 206.8902 - val_mae: 206.8902\n",
            "Epoch 101/199\n",
            "137/137 [==============================] - 37s 267ms/step - loss: 44.6303 - mae: 44.6303 - val_loss: 198.1830 - val_mae: 198.1830\n",
            "Epoch 102/199\n",
            "137/137 [==============================] - 38s 274ms/step - loss: 40.7984 - mae: 40.7984 - val_loss: 195.6743 - val_mae: 195.6743\n",
            "Epoch 103/199\n",
            "137/137 [==============================] - 37s 270ms/step - loss: 37.7990 - mae: 37.7990 - val_loss: 192.1297 - val_mae: 192.1297\n",
            "Epoch 104/199\n",
            "137/137 [==============================] - 37s 274ms/step - loss: 34.8553 - mae: 34.8553 - val_loss: 197.2312 - val_mae: 197.2312\n",
            "Epoch 105/199\n",
            "137/137 [==============================] - 37s 268ms/step - loss: 32.8853 - mae: 32.8853 - val_loss: 198.0685 - val_mae: 198.0685\n",
            "Epoch 106/199\n",
            "137/137 [==============================] - 37s 274ms/step - loss: 30.7635 - mae: 30.7635 - val_loss: 193.1419 - val_mae: 193.1419\n",
            "Epoch 107/199\n",
            "137/137 [==============================] - 37s 269ms/step - loss: 28.7664 - mae: 28.7664 - val_loss: 195.5927 - val_mae: 195.5927\n",
            "Epoch 108/199\n",
            "137/137 [==============================] - 37s 270ms/step - loss: 27.2599 - mae: 27.2599 - val_loss: 196.2014 - val_mae: 196.2014\n",
            "Epoch 109/199\n",
            "137/137 [==============================] - 37s 271ms/step - loss: 25.4186 - mae: 25.4186 - val_loss: 189.8938 - val_mae: 189.8938\n",
            "Epoch 110/199\n",
            "137/137 [==============================] - 38s 278ms/step - loss: 24.1646 - mae: 24.1646 - val_loss: 189.9051 - val_mae: 189.9051\n",
            "Epoch 111/199\n",
            "137/137 [==============================] - 37s 267ms/step - loss: 23.2380 - mae: 23.2380 - val_loss: 191.7462 - val_mae: 191.7462\n",
            "Epoch 112/199\n",
            "137/137 [==============================] - 38s 274ms/step - loss: 22.0812 - mae: 22.0812 - val_loss: 190.5229 - val_mae: 190.5229\n",
            "Epoch 113/199\n",
            "137/137 [==============================] - 38s 274ms/step - loss: 20.9733 - mae: 20.9733 - val_loss: 188.4125 - val_mae: 188.4125\n",
            "Epoch 114/199\n",
            "137/137 [==============================] - 39s 281ms/step - loss: 21.0663 - mae: 21.0663 - val_loss: 189.7595 - val_mae: 189.7595\n",
            "Epoch 115/199\n",
            "137/137 [==============================] - 38s 281ms/step - loss: 19.9574 - mae: 19.9574 - val_loss: 190.4181 - val_mae: 190.4181\n",
            "Epoch 116/199\n",
            "137/137 [==============================] - 39s 288ms/step - loss: 19.8533 - mae: 19.8533 - val_loss: 188.5994 - val_mae: 188.5994\n",
            "Epoch 117/199\n",
            "137/137 [==============================] - 39s 283ms/step - loss: 18.8083 - mae: 18.8083 - val_loss: 189.1667 - val_mae: 189.1667\n",
            "Epoch 118/199\n",
            "137/137 [==============================] - 40s 295ms/step - loss: 18.8125 - mae: 18.8125 - val_loss: 190.6707 - val_mae: 190.6707\n",
            "Epoch 119/199\n",
            "137/137 [==============================] - 39s 282ms/step - loss: 17.4473 - mae: 17.4473 - val_loss: 186.6286 - val_mae: 186.6286\n",
            "Epoch 120/199\n",
            "137/137 [==============================] - 38s 275ms/step - loss: 17.0962 - mae: 17.0962 - val_loss: 189.2652 - val_mae: 189.2652\n",
            "Epoch 121/199\n",
            "137/137 [==============================] - 37s 270ms/step - loss: 17.1898 - mae: 17.1898 - val_loss: 190.6573 - val_mae: 190.6573\n",
            "Epoch 122/199\n",
            "137/137 [==============================] - 38s 276ms/step - loss: 16.6063 - mae: 16.6063 - val_loss: 187.9455 - val_mae: 187.9455\n",
            "Epoch 123/199\n",
            "137/137 [==============================] - 38s 279ms/step - loss: 17.1552 - mae: 17.1552 - val_loss: 192.0841 - val_mae: 192.0841\n",
            "Epoch 124/199\n",
            "137/137 [==============================] - 38s 276ms/step - loss: 15.7228 - mae: 15.7228 - val_loss: 190.5843 - val_mae: 190.5843\n",
            "Epoch 125/199\n",
            "137/137 [==============================] - 38s 279ms/step - loss: 16.2693 - mae: 16.2693 - val_loss: 195.9152 - val_mae: 195.9152\n",
            "Epoch 126/199\n",
            "137/137 [==============================] - 39s 281ms/step - loss: 15.8770 - mae: 15.8770 - val_loss: 192.6427 - val_mae: 192.6427\n",
            "Epoch 127/199\n",
            "137/137 [==============================] - 40s 291ms/step - loss: 16.1587 - mae: 16.1587 - val_loss: 193.2038 - val_mae: 193.2038\n",
            "Epoch 128/199\n",
            "137/137 [==============================] - 38s 278ms/step - loss: 15.4781 - mae: 15.4781 - val_loss: 195.5952 - val_mae: 195.5952\n",
            "Epoch 129/199\n",
            "137/137 [==============================] - 38s 276ms/step - loss: 15.6632 - mae: 15.6632 - val_loss: 189.2756 - val_mae: 189.2756\n",
            "Epoch 130/199\n",
            "137/137 [==============================] - 38s 276ms/step - loss: 15.5813 - mae: 15.5813 - val_loss: 192.5512 - val_mae: 192.5512\n",
            "Epoch 131/199\n",
            "137/137 [==============================] - 38s 276ms/step - loss: 15.0435 - mae: 15.0435 - val_loss: 191.5622 - val_mae: 191.5622\n",
            "Epoch 132/199\n",
            "137/137 [==============================] - 38s 276ms/step - loss: 15.2707 - mae: 15.2707 - val_loss: 189.7937 - val_mae: 189.7937\n",
            "Epoch 133/199\n",
            "137/137 [==============================] - 38s 278ms/step - loss: 14.3565 - mae: 14.3565 - val_loss: 191.5938 - val_mae: 191.5938\n",
            "Epoch 134/199\n",
            "137/137 [==============================] - 38s 276ms/step - loss: 14.4389 - mae: 14.4389 - val_loss: 193.3947 - val_mae: 193.3947\n",
            "Epoch 135/199\n",
            "137/137 [==============================] - 38s 277ms/step - loss: 14.3054 - mae: 14.3054 - val_loss: 193.3026 - val_mae: 193.3026\n",
            "Epoch 136/199\n",
            "137/137 [==============================] - 38s 277ms/step - loss: 13.8210 - mae: 13.8210 - val_loss: 191.0104 - val_mae: 191.0104\n",
            "Epoch 137/199\n",
            "137/137 [==============================] - 38s 275ms/step - loss: 14.3265 - mae: 14.3265 - val_loss: 189.9650 - val_mae: 189.9650\n",
            "Epoch 138/199\n",
            "137/137 [==============================] - 38s 280ms/step - loss: 13.4726 - mae: 13.4726 - val_loss: 192.8056 - val_mae: 192.8056\n",
            "Epoch 139/199\n",
            "137/137 [==============================] - 38s 276ms/step - loss: 13.6306 - mae: 13.6306 - val_loss: 189.3865 - val_mae: 189.3865\n",
            "Epoch 140/199\n",
            "137/137 [==============================] - 38s 278ms/step - loss: 14.2125 - mae: 14.2125 - val_loss: 187.3146 - val_mae: 187.3146\n",
            "Epoch 141/199\n",
            "137/137 [==============================] - 38s 279ms/step - loss: 13.7524 - mae: 13.7524 - val_loss: 187.1366 - val_mae: 187.1366\n",
            "Epoch 142/199\n",
            "137/137 [==============================] - 38s 277ms/step - loss: 13.2573 - mae: 13.2573 - val_loss: 187.4572 - val_mae: 187.4572\n",
            "Epoch 143/199\n",
            "137/137 [==============================] - 38s 277ms/step - loss: 13.7398 - mae: 13.7398 - val_loss: 190.5225 - val_mae: 190.5225\n",
            "Epoch 144/199\n",
            "137/137 [==============================] - 38s 276ms/step - loss: 13.2955 - mae: 13.2955 - val_loss: 188.0579 - val_mae: 188.0579\n",
            "Epoch 145/199\n",
            "137/137 [==============================] - 38s 276ms/step - loss: 13.3293 - mae: 13.3293 - val_loss: 187.8466 - val_mae: 187.8466\n",
            "Epoch 146/199\n",
            "137/137 [==============================] - 38s 277ms/step - loss: 13.8804 - mae: 13.8804 - val_loss: 185.3219 - val_mae: 185.3219\n",
            "Epoch 147/199\n",
            "137/137 [==============================] - 38s 277ms/step - loss: 12.9311 - mae: 12.9311 - val_loss: 188.7040 - val_mae: 188.7040\n",
            "Epoch 148/199\n",
            "137/137 [==============================] - 38s 278ms/step - loss: 12.7392 - mae: 12.7392 - val_loss: 188.4138 - val_mae: 188.4138\n",
            "Epoch 149/199\n",
            "137/137 [==============================] - 38s 278ms/step - loss: 13.3084 - mae: 13.3084 - val_loss: 188.6085 - val_mae: 188.6085\n",
            "Epoch 150/199\n",
            "137/137 [==============================] - 38s 276ms/step - loss: 13.2185 - mae: 13.2185 - val_loss: 190.0267 - val_mae: 190.0267\n",
            "Epoch 151/199\n",
            "137/137 [==============================] - 38s 276ms/step - loss: 13.5018 - mae: 13.5018 - val_loss: 189.4337 - val_mae: 189.4337\n",
            "Epoch 152/199\n",
            "137/137 [==============================] - 38s 277ms/step - loss: 12.7610 - mae: 12.7610 - val_loss: 187.6404 - val_mae: 187.6404\n",
            "Epoch 153/199\n",
            "137/137 [==============================] - 38s 277ms/step - loss: 12.6924 - mae: 12.6924 - val_loss: 189.8401 - val_mae: 189.8401\n",
            "Epoch 154/199\n",
            "137/137 [==============================] - 38s 277ms/step - loss: 12.8591 - mae: 12.8591 - val_loss: 193.5059 - val_mae: 193.5059\n",
            "Epoch 155/199\n",
            "137/137 [==============================] - 38s 277ms/step - loss: 12.6358 - mae: 12.6358 - val_loss: 188.8820 - val_mae: 188.8820\n",
            "Epoch 156/199\n",
            "137/137 [==============================] - 38s 278ms/step - loss: 12.2542 - mae: 12.2542 - val_loss: 189.2778 - val_mae: 189.2778\n",
            "Epoch 157/199\n",
            "137/137 [==============================] - 38s 278ms/step - loss: 12.6008 - mae: 12.6008 - val_loss: 189.1019 - val_mae: 189.1019\n",
            "Epoch 158/199\n",
            "137/137 [==============================] - 38s 278ms/step - loss: 12.5619 - mae: 12.5619 - val_loss: 187.2990 - val_mae: 187.2990\n",
            "Epoch 159/199\n",
            "137/137 [==============================] - 38s 279ms/step - loss: 12.8770 - mae: 12.8770 - val_loss: 185.6807 - val_mae: 185.6807\n",
            "Epoch 160/199\n",
            "137/137 [==============================] - 38s 277ms/step - loss: 12.6657 - mae: 12.6657 - val_loss: 187.3762 - val_mae: 187.3762\n",
            "Epoch 161/199\n",
            "137/137 [==============================] - 38s 278ms/step - loss: 12.7581 - mae: 12.7581 - val_loss: 188.0845 - val_mae: 188.0845\n",
            "Epoch 162/199\n",
            "137/137 [==============================] - 38s 279ms/step - loss: 12.1208 - mae: 12.1208 - val_loss: 185.0936 - val_mae: 185.0936\n",
            "Epoch 163/199\n",
            "137/137 [==============================] - 38s 277ms/step - loss: 12.5565 - mae: 12.5565 - val_loss: 183.6505 - val_mae: 183.6505\n",
            "Epoch 164/199\n",
            "137/137 [==============================] - 38s 278ms/step - loss: 13.0365 - mae: 13.0365 - val_loss: 186.8577 - val_mae: 186.8577\n",
            "Epoch 165/199\n",
            "137/137 [==============================] - 39s 282ms/step - loss: 12.1482 - mae: 12.1482 - val_loss: 185.4688 - val_mae: 185.4688\n",
            "Epoch 166/199\n",
            "137/137 [==============================] - 38s 278ms/step - loss: 12.8625 - mae: 12.8625 - val_loss: 188.6954 - val_mae: 188.6954\n",
            "Epoch 167/199\n",
            "137/137 [==============================] - 39s 284ms/step - loss: 12.6501 - mae: 12.6501 - val_loss: 186.2244 - val_mae: 186.2244\n",
            "Epoch 168/199\n",
            "137/137 [==============================] - 38s 278ms/step - loss: 12.4940 - mae: 12.4940 - val_loss: 183.3029 - val_mae: 183.3029\n",
            "Epoch 169/199\n",
            "137/137 [==============================] - 41s 300ms/step - loss: 12.3741 - mae: 12.3741 - val_loss: 187.5529 - val_mae: 187.5529\n",
            "Epoch 170/199\n",
            "137/137 [==============================] - 40s 290ms/step - loss: 12.5360 - mae: 12.5360 - val_loss: 187.0441 - val_mae: 187.0441\n",
            "Epoch 171/199\n",
            "137/137 [==============================] - 40s 290ms/step - loss: 12.6569 - mae: 12.6569 - val_loss: 182.8319 - val_mae: 182.8319\n",
            "Epoch 172/199\n",
            "137/137 [==============================] - 40s 291ms/step - loss: 12.2236 - mae: 12.2236 - val_loss: 182.3346 - val_mae: 182.3346\n",
            "Epoch 173/199\n",
            "137/137 [==============================] - 39s 283ms/step - loss: 12.2394 - mae: 12.2394 - val_loss: 189.3627 - val_mae: 189.3627\n",
            "Epoch 174/199\n",
            "137/137 [==============================] - 39s 283ms/step - loss: 12.7036 - mae: 12.7036 - val_loss: 186.9923 - val_mae: 186.9923\n",
            "Epoch 175/199\n",
            "137/137 [==============================] - 39s 284ms/step - loss: 12.2741 - mae: 12.2741 - val_loss: 190.0986 - val_mae: 190.0986\n",
            "Epoch 176/199\n",
            "137/137 [==============================] - 39s 284ms/step - loss: 11.9917 - mae: 11.9917 - val_loss: 192.7336 - val_mae: 192.7336\n",
            "Epoch 177/199\n",
            "137/137 [==============================] - 39s 284ms/step - loss: 12.4491 - mae: 12.4491 - val_loss: 191.8851 - val_mae: 191.8851\n",
            "Epoch 178/199\n",
            "137/137 [==============================] - 42s 304ms/step - loss: 12.2635 - mae: 12.2635 - val_loss: 194.8253 - val_mae: 194.8253\n",
            "Epoch 179/199\n",
            "137/137 [==============================] - 45s 325ms/step - loss: 12.3941 - mae: 12.3941 - val_loss: 196.2549 - val_mae: 196.2549\n",
            "Epoch 180/199\n",
            "137/137 [==============================] - 41s 298ms/step - loss: 12.1332 - mae: 12.1332 - val_loss: 192.2696 - val_mae: 192.2696\n",
            "Epoch 181/199\n",
            "137/137 [==============================] - 40s 295ms/step - loss: 11.8111 - mae: 11.8111 - val_loss: 194.3036 - val_mae: 194.3036\n",
            "Epoch 182/199\n",
            "137/137 [==============================] - 41s 299ms/step - loss: 12.1540 - mae: 12.1540 - val_loss: 194.3074 - val_mae: 194.3074\n",
            "Epoch 183/199\n",
            "137/137 [==============================] - 40s 295ms/step - loss: 11.8935 - mae: 11.8935 - val_loss: 194.0368 - val_mae: 194.0368\n",
            "Epoch 184/199\n",
            "137/137 [==============================] - 44s 322ms/step - loss: 11.5079 - mae: 11.5079 - val_loss: 194.9185 - val_mae: 194.9185\n",
            "Epoch 185/199\n",
            "137/137 [==============================] - 46s 333ms/step - loss: 12.7105 - mae: 12.7105 - val_loss: 191.1628 - val_mae: 191.1628\n",
            "Epoch 186/199\n",
            "137/137 [==============================] - 40s 292ms/step - loss: 12.5678 - mae: 12.5678 - val_loss: 192.4579 - val_mae: 192.4579\n",
            "Epoch 187/199\n",
            "137/137 [==============================] - 39s 284ms/step - loss: 12.5261 - mae: 12.5261 - val_loss: 190.9595 - val_mae: 190.9595\n",
            "Epoch 188/199\n",
            "137/137 [==============================] - 39s 285ms/step - loss: 11.9720 - mae: 11.9720 - val_loss: 191.9891 - val_mae: 191.9891\n",
            "Epoch 189/199\n",
            "137/137 [==============================] - 39s 285ms/step - loss: 12.3220 - mae: 12.3220 - val_loss: 190.9857 - val_mae: 190.9857\n",
            "Epoch 190/199\n",
            "137/137 [==============================] - 39s 285ms/step - loss: 11.8738 - mae: 11.8738 - val_loss: 190.7987 - val_mae: 190.7987\n",
            "Epoch 191/199\n",
            "137/137 [==============================] - 39s 285ms/step - loss: 11.6502 - mae: 11.6502 - val_loss: 192.0874 - val_mae: 192.0874\n",
            "Epoch 192/199\n",
            "137/137 [==============================] - 39s 286ms/step - loss: 11.6649 - mae: 11.6649 - val_loss: 192.7634 - val_mae: 192.7634\n",
            "Epoch 193/199\n",
            "137/137 [==============================] - 39s 283ms/step - loss: 11.4679 - mae: 11.4679 - val_loss: 193.0634 - val_mae: 193.0634\n",
            "Epoch 194/199\n",
            "137/137 [==============================] - 39s 284ms/step - loss: 11.9242 - mae: 11.9242 - val_loss: 195.8592 - val_mae: 195.8592\n",
            "Epoch 195/199\n",
            "137/137 [==============================] - 39s 287ms/step - loss: 12.1794 - mae: 12.1794 - val_loss: 196.3563 - val_mae: 196.3563\n",
            "Epoch 196/199\n",
            "137/137 [==============================] - 39s 285ms/step - loss: 12.1604 - mae: 12.1604 - val_loss: 200.1469 - val_mae: 200.1469\n",
            "Epoch 197/199\n",
            "137/137 [==============================] - 39s 284ms/step - loss: 11.9348 - mae: 11.9348 - val_loss: 198.1363 - val_mae: 198.1363\n",
            "Epoch 198/199\n",
            "137/137 [==============================] - 39s 287ms/step - loss: 12.1389 - mae: 12.1389 - val_loss: 197.7722 - val_mae: 197.7722\n",
            "Epoch 199/199\n",
            "137/137 [==============================] - 43s 313ms/step - loss: 11.8563 - mae: 11.8563 - val_loss: 195.7509 - val_mae: 195.7509\n",
            "modelo guardado en: Modelos/Modelo_Nut_FV_DistilBERT_04_EMBED-256_CNN.h5\n"
          ]
        },
        {
          "data": {
            "image/png": "[encoded data removed]",
            "text/plain": [
              "<Figure size 432x288 with 1 Axes>"
            ]
          },
          "metadata": {
            "needs_background": "light"
          },
          "output_type": "display_data"
        },
        {
          "name": "stdout",
          "output_type": "stream",
          "text": [
            "1/1 [==============================] - 0s 268ms/step - loss: 170.7054 - mae: 170.7054\n",
            "[170.7053985595703, 170.7053985595703]\n",
            "1/1 [==============================] - 0s 173ms/step\n",
            "receta 0 kcal_true: 324.0 kcal_pred: 228.91176  precisión: 70.7 %\n",
            "receta 0 carbohydrate_true: 76.0 carbohydrate_pred: 31.371492  precisión: 41.3 %\n",
            "receta 0 protein_true: 8.0 protein_pred: 4.176231  precisión: 52.2 %\n",
            "receta 0 total_fat_true: 0.0 total_fat_pred: 8.873208  precisión: 0.0 %\n",
            "---------------------------------------------------------------------------\n",
            "receta 1 kcal_true: 436.0 kcal_pred: 187.18948  precisión: 42.9 %\n",
            "receta 1 carbohydrate_true: 96.0 carbohydrate_pred: 22.673794  precisión: 23.6 %\n",
            "receta 1 protein_true: 8.0 protein_pred: 2.4057608  precisión: 30.1 %\n",
            "receta 1 total_fat_true: 4.0 total_fat_pred: 9.098569  precisión: 44.0 %\n",
            "---------------------------------------------------------------------------\n",
            "receta 2 kcal_true: 846.0 kcal_pred: 256.80087  precisión: 30.4 %\n",
            "receta 2 carbohydrate_true: 72.0 carbohydrate_pred: 20.246696  precisión: 28.1 %\n",
            "receta 2 protein_true: 96.0 protein_pred: 5.8186345  precisión: 6.1 %\n",
            "receta 2 total_fat_true: 24.0 total_fat_pred: 16.068197  precisión: 67.0 %\n",
            "---------------------------------------------------------------------------\n",
            "receta 3 kcal_true: 376.0 kcal_pred: 183.20999  precisión: 48.7 %\n",
            "receta 3 carbohydrate_true: 76.0 carbohydrate_pred: 24.453178  precisión: 32.2 %\n",
            "receta 3 protein_true: 12.0 protein_pred: 2.6411157  precisión: 22.0 %\n",
            "receta 3 total_fat_true: 8.0 total_fat_pred: 7.991606  precisión: 99.9 %\n",
            "---------------------------------------------------------------------------\n",
            "receta 4 kcal_true: 1072.0 kcal_pred: 251.68146  precisión: 23.5 %\n",
            "receta 4 carbohydrate_true: 136.0 carbohydrate_pred: 35.54528  precisión: 26.1 %\n",
            "receta 4 protein_true: 40.0 protein_pred: 7.1207013  precisión: 17.8 %\n",
            "receta 4 total_fat_true: 48.0 total_fat_pred: 8.309563  precisión: 17.3 %\n",
            "---------------------------------------------------------------------------\n",
            "receta 5 kcal_true: 584.0 kcal_pred: 162.54398  precisión: 27.8 %\n",
            "receta 5 carbohydrate_true: 132.0 carbohydrate_pred: 25.876848  precisión: 19.6 %\n",
            "receta 5 protein_true: 16.0 protein_pred: 1.5325872  precisión: 9.6 %\n",
            "receta 5 total_fat_true: 4.0 total_fat_pred: 5.5206804  precisión: 72.5 %\n",
            "---------------------------------------------------------------------------\n",
            "receta 6 kcal_true: 1668.0 kcal_pred: 249.77264  precisión: 15.0 %\n",
            "receta 6 carbohydrate_true: 336.0 carbohydrate_pred: 37.1899  precisión: 11.1 %\n",
            "receta 6 protein_true: 24.0 protein_pred: 3.0551653  precisión: 12.7 %\n",
            "receta 6 total_fat_true: 36.0 total_fat_pred: 9.154195  precisión: 25.4 %\n",
            "---------------------------------------------------------------------------\n",
            "Precisión promedio aprox. =  32.76 %\n"
          ]
        }
      ],
      "source": [
        "modelo256, history2 = recomendador256.EntrenarModelo(df_nutricionales='nutricion.csv',\n",
        "                            df_training='recipes_con_info_nutricional.csv',\n",
        "                            df_test='recetas_test.csv', \n",
        "                            df_val='recetas_val.csv',\n",
        "                            learning_rate=1e-4,\n",
        "                            version=version, \n",
        "                            initial_epoch = INITIAL_EPOCH,                             \n",
        "                            epochs=INITIAL_EPOCH + EPOCHS, \n",
        "                            kernels=128,                                             \n",
        "                            min_ingredientes=5, max_ingredientes=11,\n",
        "                            min_unidades=MINU, max_unidades=MAXU,                               \n",
        "                            save=True, verbose=True)\n",
        "\n",
        "Histories.append(history)"
      ]
    },
    {
      "cell_type": "code",
      "execution_count": 9,
      "metadata": {},
      "outputs": [
        {
          "data": {
            "image/png": "[encoded data removed]",
            "text/plain": [
              "<Figure size 432x288 with 1 Axes>"
            ]
          },
          "metadata": {
            "needs_background": "light"
          },
          "output_type": "display_data"
        },
        {
          "name": "stdout",
          "output_type": "stream",
          "text": [
            "LOSS: 68.32029724121094  -- MAE: 68.32029724121094  -- VAL_LOSS: 243.8441619873047  -- VAL_MAE: 243.8441619873047\n",
            "----------------------------------------------------------\n"
          ]
        },
        {
          "data": {
            "image/png": "[encoded data removed]",
            "text/plain": [
              "<Figure size 432x288 with 1 Axes>"
            ]
          },
          "metadata": {
            "needs_background": "light"
          },
          "output_type": "display_data"
        },
        {
          "name": "stdout",
          "output_type": "stream",
          "text": [
            "LOSS: 68.32029724121094  -- MAE: 68.32029724121094  -- VAL_LOSS: 243.8441619873047  -- VAL_MAE: 243.8441619873047\n",
            "----------------------------------------------------------\n"
          ]
        }
      ],
      "source": [
        "for i in range(len(Histories)):\n",
        "    history = Histories[i]    \n",
        "    pd.DataFrame(history.history).plot()\n",
        "    plt.title('ITERACIÓN ' + str(i))\n",
        "    plt.show()\n",
        "    print('LOSS:',history.history['loss'][-1], ' -- MAE:', history.history['mae'][-1], \n",
        "          ' -- VAL_LOSS:', history.history['val_loss'][-1], ' -- VAL_MAE:', history.history['val_mae'][-1])\n",
        "    print('----------------------------------------------------------')"
      ]
    }
  ],
  "metadata": {
    "accelerator": "GPU",
    "colab": {
      "provenance": []
    },
    "gpuClass": "standard",
    "kernelspec": {
      "display_name": "ENV1",
      "language": "python",
      "name": "python3"
    },
    "language_info": {
      "codemirror_mode": {
        "name": "ipython",
        "version": 3
      },
      "file_extension": ".py",
      "mimetype": "text/x-python",
      "name": "python",
      "nbconvert_exporter": "python",
      "pygments_lexer": "ipython3",
      "version": "3.10.4"
    },
    "vscode": {
      "interpreter": {
        "hash": "5f2da51d7d0dec3faa1f8ac8beeb385a8f34478b2b58e2219ee6afa3e91fcd74"
      }
    }
  },
  "nbformat": 4,
  "nbformat_minor": 0
}
