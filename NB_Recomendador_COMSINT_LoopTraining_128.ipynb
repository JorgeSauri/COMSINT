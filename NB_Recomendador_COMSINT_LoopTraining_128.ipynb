{
  "cells": [
    {
      "cell_type": "code",
      "execution_count": 1,
      "metadata": {
        "colab": {
          "base_uri": "https://localhost:8080/"
        },
        "id": "zZXWNzHxljy7",
        "outputId": "8fb65f26-3cc5-422a-8213-1efe4db1e5e7"
      },
      "outputs": [],
      "source": [
        "# # Requerimientos de librerías:\n",
        "# !pip install spacy\n",
        "# !python -m spacy download es_core_news_md\n",
        "\n",
        "# !pip install transformers\n",
        "# !pip install transformers scipy ftfy accelerate\n",
        "\n",
        "# !git clone https://github.com/JorgeSauri/COMSINT.git "
      ]
    },
    {
      "cell_type": "code",
      "execution_count": 2,
      "metadata": {
        "colab": {
          "base_uri": "https://localhost:8080/"
        },
        "id": "UC0BQgBCa7EU",
        "outputId": "52b39a9d-3f62-48c0-d2e3-fe9fa9d56cd0"
      },
      "outputs": [],
      "source": [
        "import os\n",
        "import pandas as pd\n",
        "import matplotlib.pyplot as plt\n",
        "from tqdm import tqdm\n",
        "import tensorflow as tf\n",
        "import numpy as np\n",
        "# from google.colab import drive\n",
        "# drive.mount('/content/drive')"
      ]
    },
    {
      "cell_type": "code",
      "execution_count": 3,
      "metadata": {
        "id": "PqqyOJYUmpu8"
      },
      "outputs": [
        {
          "name": "stderr",
          "output_type": "stream",
          "text": [
            "c:\\Users\\jsaur\\anaconda3\\envs\\ENV1\\lib\\site-packages\\tqdm\\auto.py:22: TqdmWarning: IProgress not found. Please update jupyter and ipywidgets. See https://ipywidgets.readthedocs.io/en/stable/user_install.html\n",
            "  from .autonotebook import tqdm as notebook_tqdm\n"
          ]
        }
      ],
      "source": [
        "from recomendaciones_comsint import Recomendador"
      ]
    },
    {
      "attachments": {},
      "cell_type": "markdown",
      "metadata": {},
      "source": [
        "## Con tamaño embeddings 128\n",
        "- CNN de max 512 kernels (v4)"
      ]
    },
    {
      "cell_type": "code",
      "execution_count": 4,
      "metadata": {},
      "outputs": [
        {
          "name": "stdout",
          "output_type": "stream",
          "text": [
            "[PhysicalDevice(name='/physical_device:GPU:0', device_type='GPU')]\n",
            "No se encontró el modelo Modelos/Modelo_Nut_FV_DistilBERT_04_EMBED-128_CNN.h5\n",
            "Puedes crear uno nuevo con el método EntrenarModelo()\n",
            "\n"
          ]
        }
      ],
      "source": [
        "version = 4\n",
        "\n",
        "recomendador128 = Recomendador(fuente='recetario_mexicano_small.csv',\n",
        "                            nutricion = 'nutricion.csv',\n",
        "                            canasta='canasta_basica.csv')\n",
        "\n",
        "recomendador128.CargarModelo(emb_size=128, version=version)"
      ]
    },
    {
      "cell_type": "code",
      "execution_count": 5,
      "metadata": {},
      "outputs": [
        {
          "name": "stdout",
          "output_type": "stream",
          "text": [
            "Generando 1  recetas aleatorias...\n",
            "\n"
          ]
        },
        {
          "name": "stderr",
          "output_type": "stream",
          "text": [
            "100%|██████████| 1/1 [00:00<00:00, 502.13it/s]\n"
          ]
        },
        {
          "data": {
            "text/plain": [
              "array([['71gr de carne de cerdo  cruda  separable delgada y gorda  deshuesada  asado de punta de solomillo de piernas, 29gr de peanuts  raw  valencia, 55gr de comidas rápidas  caramelo  helados, 9gr de comidas rápidas  y jamón  queso  con huevo  croissant, 29gr de maní  con sal  tostado en aceite  valencia, 80gr de bagels  huevo, 60gr de leche  con vitamina d agregada  3.25% de leche con leche  entero, 53gr de bocadillos  sin maní  recubierto de caramelo  palomitas de maíz, 18gr de brócoli  sin preparación  lanzas  congelado',\n",
              "        '1040.28', '118.16', '48.01', '45.17']], dtype='<U521')"
            ]
          },
          "execution_count": 5,
          "metadata": {},
          "output_type": "execute_result"
        }
      ],
      "source": [
        "recomendador128.generar_dataset_entrenamiento_nut(df_nutricionales='nutricion.csv', \n",
        "                                                  min_ingredientes=5, max_ingredientes=20,\n",
        "                                                  min_gramos=5, max_gramos=100,\n",
        "                                                  numero_recetas=1)"
      ]
    },
    {
      "cell_type": "code",
      "execution_count": 11,
      "metadata": {
        "colab": {
          "base_uri": "https://localhost:8080/"
        },
        "id": "bEJi_jszmzf9",
        "outputId": "040f86a7-dbbe-43d2-a00d-fece49e9e4d2"
      },
      "outputs": [
        {
          "name": "stdout",
          "output_type": "stream",
          "text": [
            "\n",
            "ITERACIÓN: 1\n",
            "min gramos: 5  max gramos: 100\n",
            "Entrenando desde epoch 48\n",
            "------------------------------------------\n",
            "\n",
            "Error al cargar archivos NumPy.\n",
            "datasets/numpy/300_recetas_random_EMBED-128_DATA_X.npy no existe o está corrupto.\n",
            "datasets/numpy/300_recetas_random_EMBED-128_DATA_Y.npy no existe o está corrupto.\n",
            "Generando 300  recetas aleatorias...\n",
            "\n"
          ]
        },
        {
          "name": "stderr",
          "output_type": "stream",
          "text": [
            "100%|██████████| 300/300 [00:01<00:00, 223.64it/s]\n"
          ]
        },
        {
          "name": "stdout",
          "output_type": "stream",
          "text": [
            "Calculando vector de características de 300 recetas...\n"
          ]
        },
        {
          "name": "stderr",
          "output_type": "stream",
          "text": [
            "100%|██████████| 300/300 [13:45<00:00,  2.75s/it]\n"
          ]
        },
        {
          "name": "stdout",
          "output_type": "stream",
          "text": [
            "datasets/numpy/9_TEST_EMBED-128_DATA_X.npy cargado con éxito.\n",
            "datasets/numpy/9_TEST_EMBED-128_DATA_Y.npy cargado con éxito.\n",
            "datasets/numpy/7_VAL_EMBED-128_DATA_X.npy cargado con éxito.\n",
            "datasets/numpy/7_VAL_EMBED-128_DATA_Y.npy cargado con éxito.\n",
            "Model: \"ModeloCNNNut_128\"\n",
            "_________________________________________________________________\n",
            " Layer (type)                Output Shape              Param #   \n",
            "=================================================================\n",
            " CapaEntrada (InputLayer)    [(None, 98304)]           0         \n",
            "                                                                 \n",
            " RESHAPING (Reshape)         (None, 128, 768)          0         \n",
            "                                                                 \n",
            " batch_normalization_13 (Bat  (None, 128, 768)         3072      \n",
            " chNormalization)                                                \n",
            "                                                                 \n",
            " CONV_1 (Conv1D)             (None, 124, 512)          1966592   \n",
            "                                                                 \n",
            " POOLING_1 (MaxPooling1D)    (None, 123, 512)          0         \n",
            "                                                                 \n",
            " CONV_2 (Conv1D)             (None, 121, 256)          393472    \n",
            "                                                                 \n",
            " POOLING_2 (MaxPooling1D)    (None, 120, 256)          0         \n",
            "                                                                 \n",
            " CONV_3 (Conv1D)             (None, 118, 128)          98432     \n",
            "                                                                 \n",
            " POOLING_3 (MaxPooling1D)    (None, 117, 128)          0         \n",
            "                                                                 \n",
            " dropout_64436 (Dropout)     (None, 117, 128)          0         \n",
            "                                                                 \n",
            " flatten_13 (Flatten)        (None, 14976)             0         \n",
            "                                                                 \n",
            " dense_39 (Dense)            (None, 256)               3834112   \n",
            "                                                                 \n",
            " dense_40 (Dense)            (None, 128)               32896     \n",
            "                                                                 \n",
            " dense_41 (Dense)            (None, 64)                8256      \n",
            "                                                                 \n",
            " dropout_64437 (Dropout)     (None, 64)                0         \n",
            "                                                                 \n",
            " CapaSalida (Dense)          (None, 4)                 260       \n",
            "                                                                 \n",
            "=================================================================\n",
            "Total params: 6,337,092\n",
            "Trainable params: 6,335,556\n",
            "Non-trainable params: 1,536\n",
            "_________________________________________________________________\n",
            "Epoch 49/73\n",
            "38/38 [==============================] - 7s 168ms/step - loss: 180.5093 - mae: 180.5093 - val_loss: 169.7403 - val_mae: 169.7403\n",
            "Epoch 50/73\n",
            "38/38 [==============================] - 6s 151ms/step - loss: 163.8448 - mae: 163.8448 - val_loss: 177.2327 - val_mae: 177.2327\n",
            "Epoch 51/73\n",
            "38/38 [==============================] - 6s 155ms/step - loss: 148.1622 - mae: 148.1622 - val_loss: 178.3163 - val_mae: 178.3163\n",
            "Epoch 52/73\n",
            "38/38 [==============================] - 6s 162ms/step - loss: 132.1410 - mae: 132.1410 - val_loss: 188.8892 - val_mae: 188.8892\n",
            "Epoch 53/73\n",
            "38/38 [==============================] - 6s 160ms/step - loss: 120.5592 - mae: 120.5592 - val_loss: 181.9736 - val_mae: 181.9736\n",
            "Epoch 54/73\n",
            "38/38 [==============================] - 6s 163ms/step - loss: 112.0237 - mae: 112.0237 - val_loss: 190.3892 - val_mae: 190.3892\n",
            "Epoch 55/73\n",
            "38/38 [==============================] - 6s 159ms/step - loss: 100.7524 - mae: 100.7524 - val_loss: 177.5673 - val_mae: 177.5673\n",
            "Epoch 56/73\n",
            "38/38 [==============================] - 6s 160ms/step - loss: 94.5909 - mae: 94.5909 - val_loss: 184.2761 - val_mae: 184.2761\n",
            "Epoch 57/73\n",
            "38/38 [==============================] - 6s 159ms/step - loss: 90.2631 - mae: 90.2631 - val_loss: 191.7405 - val_mae: 191.7405\n",
            "Epoch 58/73\n",
            "38/38 [==============================] - 6s 162ms/step - loss: 87.0211 - mae: 87.0211 - val_loss: 187.1210 - val_mae: 187.1210\n",
            "Epoch 59/73\n",
            "38/38 [==============================] - 6s 161ms/step - loss: 81.5239 - mae: 81.5239 - val_loss: 179.4397 - val_mae: 179.4397\n",
            "Epoch 60/73\n",
            "38/38 [==============================] - 6s 159ms/step - loss: 81.5466 - mae: 81.5466 - val_loss: 171.6191 - val_mae: 171.6191\n",
            "Epoch 61/73\n",
            "38/38 [==============================] - 6s 161ms/step - loss: 78.7131 - mae: 78.7131 - val_loss: 171.8702 - val_mae: 171.8702\n",
            "Epoch 62/73\n",
            "38/38 [==============================] - 6s 158ms/step - loss: 75.8489 - mae: 75.8489 - val_loss: 190.9984 - val_mae: 190.9984\n",
            "Epoch 63/73\n",
            "38/38 [==============================] - 6s 158ms/step - loss: 76.9816 - mae: 76.9816 - val_loss: 212.4933 - val_mae: 212.4933\n",
            "Epoch 64/73\n",
            "38/38 [==============================] - 6s 161ms/step - loss: 81.7348 - mae: 81.7348 - val_loss: 209.7303 - val_mae: 209.7303\n",
            "Epoch 65/73\n",
            "38/38 [==============================] - 6s 161ms/step - loss: 84.6094 - mae: 84.6094 - val_loss: 209.1774 - val_mae: 209.1774\n",
            "Epoch 66/73\n",
            "38/38 [==============================] - 6s 165ms/step - loss: 74.6768 - mae: 74.6768 - val_loss: 227.4631 - val_mae: 227.4631\n",
            "Epoch 67/73\n",
            "38/38 [==============================] - 6s 165ms/step - loss: 84.7583 - mae: 84.7583 - val_loss: 211.9840 - val_mae: 211.9840\n",
            "Epoch 68/73\n",
            "38/38 [==============================] - 6s 159ms/step - loss: 80.5320 - mae: 80.5320 - val_loss: 222.2888 - val_mae: 222.2888\n",
            "Epoch 69/73\n",
            "38/38 [==============================] - 6s 161ms/step - loss: 86.7038 - mae: 86.7038 - val_loss: 209.6742 - val_mae: 209.6742\n",
            "Epoch 70/73\n",
            "38/38 [==============================] - 6s 162ms/step - loss: 85.2888 - mae: 85.2888 - val_loss: 199.1428 - val_mae: 199.1428\n",
            "Epoch 71/73\n",
            "38/38 [==============================] - 6s 161ms/step - loss: 85.7382 - mae: 85.7382 - val_loss: 184.2721 - val_mae: 184.2721\n",
            "Epoch 72/73\n",
            "38/38 [==============================] - 6s 162ms/step - loss: 91.5152 - mae: 91.5152 - val_loss: 170.8962 - val_mae: 170.8962\n",
            "Epoch 73/73\n",
            "38/38 [==============================] - 6s 168ms/step - loss: 89.8265 - mae: 89.8265 - val_loss: 175.2900 - val_mae: 175.2900\n",
            "modelo guardado en: Modelos/Modelo_Nut_FV_DistilBERT_04_EMBED-128_CNN.h5\n"
          ]
        },
        {
          "data": {
            "image/png": "[encoded data removed]",
            "text/plain": [
              "<Figure size 432x288 with 1 Axes>"
            ]
          },
          "metadata": {
            "needs_background": "light"
          },
          "output_type": "display_data"
        },
        {
          "name": "stdout",
          "output_type": "stream",
          "text": [
            "1/1 [==============================] - 0s 262ms/step - loss: 133.4582 - mae: 133.4582\n",
            "[133.45816040039062, 133.45816040039062]\n",
            "1/1 [==============================] - 0s 159ms/step\n",
            "receta 0 kcal_true: 324.0 kcal_pred: 584.32117  precisión: 55.4 %\n",
            "receta 0 carbohydrate_true: 76.0 carbohydrate_pred: 50.60087  precisión: 66.6 %\n",
            "receta 0 protein_true: 8.0 protein_pred: 27.069777  precisión: 29.6 %\n",
            "receta 0 total_fat_true: 0.0 total_fat_pred: 27.849733  precisión: 0.0 %\n",
            "---------------------------------------------------------------------------\n",
            "receta 1 kcal_true: 436.0 kcal_pred: 596.4143  precisión: 73.1 %\n",
            "receta 1 carbohydrate_true: 96.0 carbohydrate_pred: 57.664005  precisión: 60.1 %\n",
            "receta 1 protein_true: 8.0 protein_pred: 30.157257  precisión: 26.5 %\n",
            "receta 1 total_fat_true: 4.0 total_fat_pred: 24.716307  precisión: 16.2 %\n",
            "---------------------------------------------------------------------------\n",
            "receta 2 kcal_true: 846.0 kcal_pred: 1073.1667  precisión: 78.8 %\n",
            "receta 2 carbohydrate_true: 72.0 carbohydrate_pred: 99.824135  precisión: 72.1 %\n",
            "receta 2 protein_true: 96.0 protein_pred: 56.27047  precisión: 58.6 %\n",
            "receta 2 total_fat_true: 24.0 total_fat_pred: 51.805725  precisión: 46.3 %\n",
            "---------------------------------------------------------------------------\n",
            "receta 3 kcal_true: 376.0 kcal_pred: 1073.7994  precisión: 35.0 %\n",
            "receta 3 carbohydrate_true: 76.0 carbohydrate_pred: 104.878586  precisión: 72.5 %\n",
            "receta 3 protein_true: 12.0 protein_pred: 46.420734  precisión: 25.9 %\n",
            "receta 3 total_fat_true: 8.0 total_fat_pred: 51.02147  precisión: 15.7 %\n",
            "---------------------------------------------------------------------------\n",
            "receta 4 kcal_true: 1072.0 kcal_pred: 408.20816  precisión: 38.1 %\n",
            "receta 4 carbohydrate_true: 136.0 carbohydrate_pred: 50.072723  precisión: 36.8 %\n",
            "receta 4 protein_true: 40.0 protein_pred: 20.897638  precisión: 52.2 %\n",
            "receta 4 total_fat_true: 48.0 total_fat_pred: 11.814535  precisión: 24.6 %\n",
            "---------------------------------------------------------------------------\n",
            "receta 5 kcal_true: 584.0 kcal_pred: 379.78592  precisión: 65.0 %\n",
            "receta 5 carbohydrate_true: 132.0 carbohydrate_pred: 49.35379  precisión: 37.4 %\n",
            "receta 5 protein_true: 16.0 protein_pred: 19.86683  precisión: 80.5 %\n",
            "receta 5 total_fat_true: 4.0 total_fat_pred: 8.224533  precisión: 48.6 %\n",
            "---------------------------------------------------------------------------\n",
            "receta 6 kcal_true: 1668.0 kcal_pred: 972.1107  precisión: 58.3 %\n",
            "receta 6 carbohydrate_true: 336.0 carbohydrate_pred: 113.33149  precisión: 33.7 %\n",
            "receta 6 protein_true: 24.0 protein_pred: 40.94703  precisión: 58.6 %\n",
            "receta 6 total_fat_true: 36.0 total_fat_pred: 36.455  precisión: 98.8 %\n",
            "---------------------------------------------------------------------------\n",
            "Precisión promedio aprox. =  48.75 %\n"
          ]
        }
      ],
      "source": [
        "recomendador128.NUM_RECETAS = 5000\n",
        "recomendador128.EMB_SIZE = 128\n",
        "ITER = 1\n",
        "INITIAL_EPOCH = 0\n",
        "EPOCHS = 25\n",
        "\n",
        "Histories = []\n",
        "for iteracion in range(ITER):\n",
        "  MINGRAMOS = 5 \n",
        "  MAXGRAMOS = 100   \n",
        "  print('\\nITERACIÓN:', iteracion+1)\n",
        "  print('min gramos:',MINGRAMOS, ' max gramos:', MAXGRAMOS)\n",
        "  print('Entrenando desde epoch', INITIAL_EPOCH)\n",
        "  print('------------------------------------------\\n')\n",
        "  modelo128, history = recomendador128.EntrenarModelo(df_nutricionales='nutricion.csv',\n",
        "                                #df_training='recipes_con_info_nutricional.csv',\n",
        "                                df_test='recetas_test.csv', \n",
        "                                df_val='recetas_val.csv',\n",
        "                                learning_rate=1e-4,\n",
        "                                version=version, \n",
        "                                initial_epoch = INITIAL_EPOCH,                             \n",
        "                                epochs=INITIAL_EPOCH + EPOCHS, \n",
        "                                kernels=128,                                             \n",
        "                                min_ingredientes=5, max_ingredientes=20,\n",
        "                                min_gramos=MINGRAMOS, max_gramos=MAXGRAMOS,                               \n",
        "                                save=True, verbose=True)\n",
        "  INITIAL_EPOCH = history.epoch[-1]\n",
        "\n",
        "  Histories.append(history)\n"
      ]
    },
    {
      "cell_type": "code",
      "execution_count": 12,
      "metadata": {},
      "outputs": [
        {
          "data": {
            "image/png": "[encoded data removed]",
            "text/plain": [
              "<Figure size 432x288 with 1 Axes>"
            ]
          },
          "metadata": {
            "needs_background": "light"
          },
          "output_type": "display_data"
        },
        {
          "name": "stdout",
          "output_type": "stream",
          "text": [
            "LOSS: 89.82654571533203  -- MAE: 89.82654571533203  -- VAL_LOSS: 175.2900390625  -- VAL_MAE: 175.2900390625\n",
            "----------------------------------------------------------\n"
          ]
        }
      ],
      "source": [
        "for i in range(len(Histories)):\n",
        "    history = Histories[i]    \n",
        "    pd.DataFrame(history.history).plot()\n",
        "    plt.title('ITERACIÓN ' + str(i))\n",
        "    plt.show()\n",
        "    print('LOSS:',history.history['loss'][-1], ' -- MAE:', history.history['mae'][-1], \n",
        "          ' -- VAL_LOSS:', history.history['val_loss'][-1], ' -- VAL_MAE:', history.history['val_mae'][-1])\n",
        "    print('----------------------------------------------------------')"
      ]
    }
  ],
  "metadata": {
    "accelerator": "GPU",
    "colab": {
      "provenance": []
    },
    "gpuClass": "standard",
    "kernelspec": {
      "display_name": "ENV1",
      "language": "python",
      "name": "python3"
    },
    "language_info": {
      "codemirror_mode": {
        "name": "ipython",
        "version": 3
      },
      "file_extension": ".py",
      "mimetype": "text/x-python",
      "name": "python",
      "nbconvert_exporter": "python",
      "pygments_lexer": "ipython3",
      "version": "3.10.4"
    },
    "vscode": {
      "interpreter": {
        "hash": "5f2da51d7d0dec3faa1f8ac8beeb385a8f34478b2b58e2219ee6afa3e91fcd74"
      }
    }
  },
  "nbformat": 4,
  "nbformat_minor": 0
}
