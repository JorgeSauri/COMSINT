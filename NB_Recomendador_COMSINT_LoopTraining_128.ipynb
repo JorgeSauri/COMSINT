{
  "cells": [
    {
      "cell_type": "code",
      "execution_count": 1,
      "metadata": {
        "colab": {
          "base_uri": "https://localhost:8080/"
        },
        "id": "zZXWNzHxljy7",
        "outputId": "8fb65f26-3cc5-422a-8213-1efe4db1e5e7"
      },
      "outputs": [],
      "source": [
        "# # Requerimientos de librerías:\n",
        "# !pip install spacy\n",
        "# !python -m spacy download es_core_news_md\n",
        "\n",
        "# !pip install transformers\n",
        "# !pip install transformers scipy ftfy accelerate\n",
        "\n",
        "# !git clone https://github.com/JorgeSauri/COMSINT.git "
      ]
    },
    {
      "cell_type": "code",
      "execution_count": 2,
      "metadata": {
        "colab": {
          "base_uri": "https://localhost:8080/"
        },
        "id": "UC0BQgBCa7EU",
        "outputId": "52b39a9d-3f62-48c0-d2e3-fe9fa9d56cd0"
      },
      "outputs": [],
      "source": [
        "import os\n",
        "import pandas as pd\n",
        "import matplotlib.pyplot as plt\n",
        "from tqdm import tqdm\n",
        "import tensorflow as tf\n",
        "import numpy as np\n",
        "# from google.colab import drive\n",
        "# drive.mount('/content/drive')"
      ]
    },
    {
      "cell_type": "code",
      "execution_count": 3,
      "metadata": {
        "id": "PqqyOJYUmpu8"
      },
      "outputs": [
        {
          "name": "stderr",
          "output_type": "stream",
          "text": [
            "c:\\Users\\jsaur\\anaconda3\\envs\\ENV1\\lib\\site-packages\\tqdm\\auto.py:22: TqdmWarning: IProgress not found. Please update jupyter and ipywidgets. See https://ipywidgets.readthedocs.io/en/stable/user_install.html\n",
            "  from .autonotebook import tqdm as notebook_tqdm\n"
          ]
        }
      ],
      "source": [
        "from recomendaciones_comsint import Recomendador"
      ]
    },
    {
      "attachments": {},
      "cell_type": "markdown",
      "metadata": {},
      "source": [
        "## Con tamaño embeddings 128\n",
        "- CNN de max 512 kernels (v4)"
      ]
    },
    {
      "cell_type": "code",
      "execution_count": 4,
      "metadata": {},
      "outputs": [
        {
          "name": "stdout",
          "output_type": "stream",
          "text": [
            "[PhysicalDevice(name='/physical_device:GPU:0', device_type='GPU')]\n",
            "Modelo Modelos/Modelo_Nut_FV_DistilBERT_04_EMBED-128_CNN.h5 cargado con éxito.\n",
            "Modelo Modelos/Modelo_Precios_FV_DistilBERT_04_EMBED-128_CNN.h5 cargado con éxito.\n"
          ]
        }
      ],
      "source": [
        "version = 4\n",
        "\n",
        "recomendador128 = Recomendador(fuente='recetario_mexicano_small.csv',\n",
        "                            nutricion = 'nutricion_mejorado.csv',\n",
        "                            canasta='canasta_basica.csv')\n",
        "\n",
        "recomendador128.CargarModelo(emb_size=128, version=version)"
      ]
    },
    {
      "cell_type": "code",
      "execution_count": 5,
      "metadata": {},
      "outputs": [
        {
          "name": "stdout",
          "output_type": "stream",
          "text": [
            "Generando 10 recetas aleatorias, esto puede tardar varios minutos...\n"
          ]
        },
        {
          "data": {
            "text/plain": [
              "<AxesSubplot:>"
            ]
          },
          "execution_count": 5,
          "metadata": {},
          "output_type": "execute_result"
        },
        {
          "data": {
            "image/png": "[encoded data removed]",
            "text/plain": [
              "<Figure size 1440x720 with 1 Axes>"
            ]
          },
          "metadata": {
            "needs_background": "light"
          },
          "output_type": "display_data"
        }
      ],
      "source": [
        "test = recomendador128.generar_dataset_entrenamiento_nut(df_nutricionales='nutricion_mejorado.csv', \n",
        "                                                  min_ingredientes=5, max_ingredientes=11,\n",
        "                                                  min_unidades=1, max_unidades=10,\n",
        "                                                  min_kcal=300, max_kcal= 1800,\n",
        "                                                  numero_recetas=10, _INTENTOS=5,\n",
        "                                                  )\n",
        "\n",
        "df = pd.DataFrame(test, columns=['ingredientes', 'kcal', 'carbs', 'prot', 'grasas']) \n",
        "plt.figure(figsize=(20,10))\n",
        "df['kcal'].hist()"
      ]
    },
    {
      "attachments": {},
      "cell_type": "markdown",
      "metadata": {},
      "source": [
        "* Entrenar información nutricional"
      ]
    },
    {
      "cell_type": "code",
      "execution_count": null,
      "metadata": {
        "colab": {
          "base_uri": "https://localhost:8080/"
        },
        "id": "bEJi_jszmzf9",
        "outputId": "040f86a7-dbbe-43d2-a00d-fece49e9e4d2"
      },
      "outputs": [],
      "source": [
        "recomendador128.NUM_RECETAS = 200\n",
        "recomendador128.EMB_SIZE = 128\n",
        "BATCHSIZE = 16\n",
        "ITER = 3\n",
        "INITIAL_EPOCH = 0\n",
        "EPOCHS = recomendador128.NUM_RECETAS // BATCHSIZE\n",
        "#EPOCHS = 15\n",
        "LR = 1e-3\n",
        "\n",
        "Rangos_kcal = [\n",
        "                (300, 800),\n",
        "                (801, 1200),\n",
        "                (1201, 1700)           \n",
        "                #(500, 1500)              \n",
        "              ]\n",
        "\n",
        "Its = []\n",
        "Valmaes = []\n",
        "Histories = []\n",
        "val_mae = 1000\n",
        "MAX_VAL_MAE = 50\n",
        "iteracion = 0\n",
        "\n",
        "#for iteracion in range(ITER):\n",
        "while val_mae > MAX_VAL_MAE and iteracion<ITER:\n",
        "  MINU = 1 \n",
        "  MAXU = 10  \n",
        "  #INITIAL_EPOCH = 0\n",
        "\n",
        "  tmp_val_mae = 0\n",
        "  for ik in range(len(Rangos_kcal)):\n",
        "    MINK, MAXK = Rangos_kcal[ik]\n",
        "    print('\\nITERACIÓN:', iteracion+1)\n",
        "    print('VAL_MAE:', val_mae)\n",
        "    print('min unidades:',MINU, ' max unidades:', MAXU)\n",
        "    print('min kcal:', MINK, ' max kcal:', MAXK)\n",
        "    print('Entrenando desde epoch', INITIAL_EPOCH)\n",
        "    print('------------------------------------------\\n')\n",
        "    try:\n",
        "      modelo128, history = recomendador128.EntrenarModelo(df_nutricionales='nutricion_mejorado.csv',\n",
        "                                    #df_training='recipes_con_info_nutricional.csv',\n",
        "                                    #df_test='recetas_test.csv', \n",
        "                                    #df_val='recetas_val.csv',\n",
        "                                    learning_rate=LR,\n",
        "                                    version=version, \n",
        "                                    initial_epoch = INITIAL_EPOCH,                             \n",
        "                                    epochs=INITIAL_EPOCH + EPOCHS, \n",
        "                                    batch_size=BATCHSIZE,\n",
        "                                    kernels=128,                                             \n",
        "                                    min_ingredientes=5, max_ingredientes=11,                                  \n",
        "                                    min_unidades=MINU, max_unidades=MAXU,  \n",
        "                                    min_kcal=MINK, max_kcal= MAXK,                             \n",
        "                                    save=True, verbose=True)\n",
        "      INITIAL_EPOCH = history.epoch[-1]      \n",
        "      tmp_val_mae += float(history.history['val_mae'][-1])           \n",
        "      Histories.append(history)\n",
        "\n",
        "    except:\n",
        "      print('Falló al entrenar en interación', iteracion)\n",
        "      pass\n",
        "  \n",
        "  val_mae = tmp_val_mae / len(Rangos_kcal)\n",
        "  print('VAL_MAE Promedio:', val_mae)\n",
        "  iteracion += 1\n",
        "  Its.append(iteracion)\n",
        "  Valmaes.append(val_mae)\n",
        "\n",
        "\n",
        "dfVM = pd.DataFrame({'iteracion':Its, 'val_mae':Valmaes}, columns=['iteracion', 'val_mae'])\n",
        "dfVM.plot(kind='bar', x='iteracion', y='val_mae')"
      ]
    },
    {
      "cell_type": "code",
      "execution_count": null,
      "metadata": {},
      "outputs": [],
      "source": [
        "for i in range(len(Histories)):\n",
        "    history = Histories[i]    \n",
        "    pd.DataFrame(history.history).plot()\n",
        "    plt.title('ITERACIÓN ' + str(i))\n",
        "    plt.show()\n",
        "    print('LOSS:',history.history['loss'][-1], ' -- MAE:', history.history['mae'][-1], \n",
        "          ' -- VAL_LOSS:', history.history['val_loss'][-1], ' -- VAL_MAE:', history.history['val_mae'][-1])\n",
        "    print('----------------------------------------------------------')"
      ]
    },
    {
      "attachments": {},
      "cell_type": "markdown",
      "metadata": {},
      "source": [
        "* Entrenar precios"
      ]
    },
    {
      "cell_type": "code",
      "execution_count": 7,
      "metadata": {},
      "outputs": [
        {
          "name": "stdout",
          "output_type": "stream",
          "text": [
            "Generando 1000  recetas aleatorias...\n",
            "\n"
          ]
        },
        {
          "data": {
            "text/plain": [
              "count      1000\n",
              "unique      943\n",
              "top       51.22\n",
              "freq          3\n",
              "Name: precio, dtype: object"
            ]
          },
          "execution_count": 7,
          "metadata": {},
          "output_type": "execute_result"
        }
      ],
      "source": [
        "precios = recomendador128.generar_dataset_entrenamiento_precios(min_ingredientes=5, max_ingredientes=11,\n",
        "                                                      min_unidades=1, max_unidades=10,\n",
        "                                                      min_precio = 50, max_precio=150,\n",
        "                                                      numero_recetas=1000\n",
        "                                                      )\n",
        "\n",
        "df = pd.DataFrame(precios, columns=['ingredientes', 'precio'])\n",
        "df['precio'].describe()"
      ]
    },
    {
      "cell_type": "code",
      "execution_count": 9,
      "metadata": {},
      "outputs": [
        {
          "name": "stdout",
          "output_type": "stream",
          "text": [
            "\n",
            "ITERACIÓN: 1\n",
            "Rango de precios: $ 50  y  $ 150\n",
            "Entrenando desde epoch 0\n",
            "------------------------------------------\n",
            "\n",
            "Generando 100  recetas aleatorias...\n",
            "\n",
            "Calculando vector de características de 100 recetas...\n"
          ]
        },
        {
          "name": "stderr",
          "output_type": "stream",
          "text": [
            "100%|██████████| 100/100 [00:20<00:00,  4.98it/s]\n"
          ]
        },
        {
          "name": "stdout",
          "output_type": "stream",
          "text": [
            "Epoch 1/12\n",
            "10/10 [==============================] - 2s 197ms/step - loss: 70.5436 - mae: 70.5436 - val_loss: 60.6531 - val_mae: 60.6531\n",
            "Epoch 2/12\n",
            "10/10 [==============================] - 2s 176ms/step - loss: 64.0289 - mae: 64.0289 - val_loss: 51.8087 - val_mae: 51.8087\n",
            "Epoch 3/12\n",
            "10/10 [==============================] - 2s 219ms/step - loss: 58.8203 - mae: 58.8203 - val_loss: 45.9931 - val_mae: 45.9931\n",
            "Epoch 4/12\n",
            "10/10 [==============================] - 2s 183ms/step - loss: 52.7172 - mae: 52.7172 - val_loss: 41.8683 - val_mae: 41.8683\n",
            "Epoch 5/12\n",
            "10/10 [==============================] - 2s 173ms/step - loss: 51.7492 - mae: 51.7492 - val_loss: 38.9047 - val_mae: 38.9047\n",
            "Epoch 6/12\n",
            "10/10 [==============================] - 2s 170ms/step - loss: 47.5755 - mae: 47.5755 - val_loss: 36.1396 - val_mae: 36.1396\n",
            "Epoch 7/12\n",
            "10/10 [==============================] - 2s 203ms/step - loss: 46.1149 - mae: 46.1149 - val_loss: 34.0909 - val_mae: 34.0909\n",
            "Epoch 8/12\n",
            "10/10 [==============================] - 2s 200ms/step - loss: 45.5913 - mae: 45.5913 - val_loss: 32.1005 - val_mae: 32.1005\n",
            "Epoch 9/12\n",
            "10/10 [==============================] - 2s 171ms/step - loss: 39.4220 - mae: 39.4220 - val_loss: 30.6272 - val_mae: 30.6272\n",
            "Epoch 10/12\n",
            "10/10 [==============================] - 2s 183ms/step - loss: 37.9116 - mae: 37.9116 - val_loss: 29.7811 - val_mae: 29.7811\n",
            "Epoch 11/12\n",
            "10/10 [==============================] - 2s 204ms/step - loss: 38.3519 - mae: 38.3519 - val_loss: 29.0276 - val_mae: 29.0276\n",
            "Epoch 12/12\n",
            "10/10 [==============================] - 2s 213ms/step - loss: 34.9973 - mae: 34.9973 - val_loss: 26.8523 - val_mae: 26.8523\n",
            "modelo guardado en: Modelos/Modelo_Precios_FV_DistilBERT_04_EMBED-128_CNN.h5\n"
          ]
        },
        {
          "data": {
            "image/png": "[encoded data removed]",
            "text/plain": [
              "<Figure size 432x288 with 1 Axes>"
            ]
          },
          "metadata": {
            "needs_background": "light"
          },
          "output_type": "display_data"
        },
        {
          "name": "stdout",
          "output_type": "stream",
          "text": [
            "1/1 [==============================] - 0s 259ms/step - loss: 39.4975 - mae: 39.4975\n",
            "[39.49748611450195, 39.49748611450195]\n",
            "1/1 [==============================] - 0s 221ms/step\n",
            "receta 0 precio_prom_por_gramo_true: 120.3 precio_prom_por_gramo_pred: 106.74045  precisión: 88.7 %\n",
            "---------------------------------------------------------------------------\n",
            "receta 1 precio_prom_por_gramo_true: 53.22 precio_prom_por_gramo_pred: 69.2766  precisión: 76.8 %\n",
            "---------------------------------------------------------------------------\n",
            "receta 2 precio_prom_por_gramo_true: 68.25 precio_prom_por_gramo_pred: 64.16988  precisión: 94.0 %\n",
            "---------------------------------------------------------------------------\n",
            "receta 3 precio_prom_por_gramo_true: 64.75 precio_prom_por_gramo_pred: 80.098495  precisión: 80.8 %\n",
            "---------------------------------------------------------------------------\n",
            "receta 4 precio_prom_por_gramo_true: 106.3 precio_prom_por_gramo_pred: 150.24026  precisión: 70.8 %\n",
            "---------------------------------------------------------------------------\n",
            "receta 5 precio_prom_por_gramo_true: 96.44 precio_prom_por_gramo_pred: 78.47122  precisión: 81.4 %\n",
            "---------------------------------------------------------------------------\n",
            "receta 6 precio_prom_por_gramo_true: 53.16 precio_prom_por_gramo_pred: 93.398994  precisión: 56.9 %\n",
            "---------------------------------------------------------------------------\n",
            "receta 7 precio_prom_por_gramo_true: 63.78 precio_prom_por_gramo_pred: 20.735771  precisión: 32.5 %\n",
            "---------------------------------------------------------------------------\n",
            "receta 8 precio_prom_por_gramo_true: 127.1 precio_prom_por_gramo_pred: 90.291306  precisión: 71.0 %\n",
            "---------------------------------------------------------------------------\n",
            "receta 9 precio_prom_por_gramo_true: 61.0 precio_prom_por_gramo_pred: 55.08894  precisión: 90.3 %\n",
            "---------------------------------------------------------------------------\n",
            "receta 10 precio_prom_por_gramo_true: 107.44 precio_prom_por_gramo_pred: 89.355774  precisión: 83.2 %\n",
            "---------------------------------------------------------------------------\n",
            "receta 11 precio_prom_por_gramo_true: 128.9 precio_prom_por_gramo_pred: 87.03096  precisión: 67.5 %\n",
            "---------------------------------------------------------------------------\n",
            "receta 12 precio_prom_por_gramo_true: 78.6 precio_prom_por_gramo_pred: 152.62476  precisión: 51.5 %\n",
            "---------------------------------------------------------------------------\n",
            "receta 13 precio_prom_por_gramo_true: 50.94 precio_prom_por_gramo_pred: 55.062492  precisión: 92.5 %\n",
            "---------------------------------------------------------------------------\n",
            "receta 14 precio_prom_por_gramo_true: 146.1 precio_prom_por_gramo_pred: 106.452  precisión: 72.8 %\n",
            "---------------------------------------------------------------------------\n",
            "receta 15 precio_prom_por_gramo_true: 134.4 precio_prom_por_gramo_pred: 60.262894  precisión: 44.8 %\n",
            "---------------------------------------------------------------------------\n",
            "receta 16 precio_prom_por_gramo_true: 111.4 precio_prom_por_gramo_pred: 39.845497  precisión: 35.8 %\n",
            "---------------------------------------------------------------------------\n",
            "receta 17 precio_prom_por_gramo_true: 149.1 precio_prom_por_gramo_pred: 39.210392  precisión: 26.3 %\n",
            "---------------------------------------------------------------------------\n",
            "receta 18 precio_prom_por_gramo_true: 53.3 precio_prom_por_gramo_pred: 100.61329  precisión: 53.0 %\n",
            "---------------------------------------------------------------------------\n",
            "receta 19 precio_prom_por_gramo_true: 141.2 precio_prom_por_gramo_pred: 68.86638  precisión: 48.8 %\n",
            "---------------------------------------------------------------------------\n",
            "Precisión promedio aprox. =  65.98 %\n",
            "\n",
            "ITERACIÓN: 1\n",
            "Rango de precios: $ 151  y  $ 350\n",
            "Entrenando desde epoch 11\n",
            "------------------------------------------\n",
            "\n",
            "Generando 100  recetas aleatorias...\n",
            "\n",
            "Calculando vector de características de 100 recetas...\n"
          ]
        },
        {
          "name": "stderr",
          "output_type": "stream",
          "text": [
            "100%|██████████| 100/100 [00:20<00:00,  4.78it/s]\n"
          ]
        },
        {
          "name": "stdout",
          "output_type": "stream",
          "text": [
            "Epoch 12/23\n",
            "10/10 [==============================] - 2s 194ms/step - loss: 207.9569 - mae: 207.9569 - val_loss: 136.4003 - val_mae: 136.4003\n",
            "Epoch 13/23\n",
            "10/10 [==============================] - 2s 177ms/step - loss: 133.0997 - mae: 133.0997 - val_loss: 75.8015 - val_mae: 75.8015\n",
            "Epoch 14/23\n",
            "10/10 [==============================] - 2s 207ms/step - loss: 108.8229 - mae: 108.8229 - val_loss: 60.2172 - val_mae: 60.2172\n",
            "Epoch 15/23\n",
            "10/10 [==============================] - 2s 228ms/step - loss: 80.3918 - mae: 80.3918 - val_loss: 58.3908 - val_mae: 58.3908\n",
            "Epoch 16/23\n",
            "10/10 [==============================] - 2s 181ms/step - loss: 74.5006 - mae: 74.5006 - val_loss: 57.5005 - val_mae: 57.5005\n",
            "Epoch 17/23\n",
            "10/10 [==============================] - 2s 192ms/step - loss: 75.4769 - mae: 75.4769 - val_loss: 57.6634 - val_mae: 57.6634\n",
            "Epoch 18/23\n",
            "10/10 [==============================] - 2s 213ms/step - loss: 73.8390 - mae: 73.8390 - val_loss: 51.5951 - val_mae: 51.5951\n",
            "Epoch 19/23\n",
            "10/10 [==============================] - 2s 218ms/step - loss: 83.0627 - mae: 83.0627 - val_loss: 50.3021 - val_mae: 50.3021\n",
            "Epoch 20/23\n",
            "10/10 [==============================] - 2s 199ms/step - loss: 65.3430 - mae: 65.3430 - val_loss: 52.3760 - val_mae: 52.3760\n",
            "Epoch 21/23\n",
            "10/10 [==============================] - 2s 185ms/step - loss: 69.6504 - mae: 69.6504 - val_loss: 56.5075 - val_mae: 56.5075\n",
            "Epoch 22/23\n",
            "10/10 [==============================] - 2s 231ms/step - loss: 73.8787 - mae: 73.8787 - val_loss: 51.5317 - val_mae: 51.5317\n",
            "Epoch 23/23\n",
            "10/10 [==============================] - 2s 218ms/step - loss: 65.9552 - mae: 65.9552 - val_loss: 45.9902 - val_mae: 45.9902\n"
          ]
        }
      ],
      "source": [
        "recomendador128.NUM_RECETAS = 100\n",
        "recomendador128.EMB_SIZE = 128\n",
        "BATCHSIZE = 8\n",
        "ITER = 1\n",
        "INITIAL_EPOCH = 0\n",
        "EPOCHS = recomendador128.NUM_RECETAS // BATCHSIZE\n",
        "MINU = 1 \n",
        "MAXU = 10  \n",
        "\n",
        "Rangos_precios = [(50, 150), (151, 350), (351, 550), (551, 750), (751, 1001)]\n",
        "\n",
        "Histories_precios = []\n",
        "for iteracion in range(ITER):\n",
        "    for ip in range(len(Rangos_precios)):\n",
        "        MINP, MAXP = Rangos_precios[ip]\n",
        "        print('\\nITERACIÓN:', iteracion+1)\n",
        "        print('Rango de precios: $', MINP, ' y  $', MAXP)\n",
        "        print('Entrenando desde epoch', INITIAL_EPOCH)\n",
        "        print('------------------------------------------\\n')\n",
        "        modelo128_precios, history_precios = recomendador128.EntrenarModeloPrecios(\n",
        "                                        df_precios='lista_precios_profeco_2022.csv',                                   \n",
        "                                        learning_rate=1e-4,\n",
        "                                        version=version, \n",
        "                                        initial_epoch = INITIAL_EPOCH,                             \n",
        "                                        epochs=INITIAL_EPOCH + EPOCHS, \n",
        "                                        min_ingredientes=5, max_ingredientes=11,                                  \n",
        "                                        min_unidades=MINU, max_unidades=MAXU,\n",
        "                                        min_precio=MINP, max_precio=MAXP,\n",
        "                                        batch_size=BATCHSIZE,\n",
        "                                        kernels=128,                                                                         \n",
        "                                        save=True, verbose=True)\n",
        "        INITIAL_EPOCH = history_precios.epoch[-1]\n",
        "\n",
        "        Histories_precios.append(history_precios)"
      ]
    },
    {
      "cell_type": "code",
      "execution_count": 10,
      "metadata": {},
      "outputs": [
        {
          "data": {
            "image/png": "[encoded data removed]",
            "text/plain": [
              "<Figure size 432x288 with 1 Axes>"
            ]
          },
          "metadata": {
            "needs_background": "light"
          },
          "output_type": "display_data"
        },
        {
          "name": "stdout",
          "output_type": "stream",
          "text": [
            "LOSS: 610.884521484375  -- MAE: 610.884521484375  -- VAL_LOSS: 605.876708984375  -- VAL_MAE: 605.876708984375\n",
            "----------------------------------------------------------\n"
          ]
        },
        {
          "data": {
            "image/png": "[encoded data removed]",
            "text/plain": [
              "<Figure size 432x288 with 1 Axes>"
            ]
          },
          "metadata": {
            "needs_background": "light"
          },
          "output_type": "display_data"
        },
        {
          "name": "stdout",
          "output_type": "stream",
          "text": [
            "LOSS: 384.781494140625  -- MAE: 384.781494140625  -- VAL_LOSS: 627.9765014648438  -- VAL_MAE: 627.9765014648438\n",
            "----------------------------------------------------------\n"
          ]
        }
      ],
      "source": [
        "for i in range(len(Histories_precios)):\n",
        "    history = Histories_precios[i]    \n",
        "    pd.DataFrame(history.history).plot()\n",
        "    plt.title('ITERACIÓN ' + str(i))\n",
        "    plt.show()\n",
        "    print('LOSS:',history.history['loss'][-1], ' -- MAE:', history.history['mae'][-1], \n",
        "          ' -- VAL_LOSS:', history.history['val_loss'][-1], ' -- VAL_MAE:', history.history['val_mae'][-1])\n",
        "    print('----------------------------------------------------------')"
      ]
    }
  ],
  "metadata": {
    "accelerator": "GPU",
    "colab": {
      "provenance": []
    },
    "gpuClass": "standard",
    "kernelspec": {
      "display_name": "ENV1",
      "language": "python",
      "name": "python3"
    },
    "language_info": {
      "codemirror_mode": {
        "name": "ipython",
        "version": 3
      },
      "file_extension": ".py",
      "mimetype": "text/x-python",
      "name": "python",
      "nbconvert_exporter": "python",
      "pygments_lexer": "ipython3",
      "version": "3.10.4"
    },
    "vscode": {
      "interpreter": {
        "hash": "5f2da51d7d0dec3faa1f8ac8beeb385a8f34478b2b58e2219ee6afa3e91fcd74"
      }
    }
  },
  "nbformat": 4,
  "nbformat_minor": 0
}
