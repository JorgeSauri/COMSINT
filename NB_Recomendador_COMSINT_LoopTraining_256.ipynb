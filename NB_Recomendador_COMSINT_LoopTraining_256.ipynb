{
  "cells": [
    {
      "cell_type": "code",
      "execution_count": 1,
      "metadata": {
        "colab": {
          "base_uri": "https://localhost:8080/"
        },
        "id": "zZXWNzHxljy7",
        "outputId": "8fb65f26-3cc5-422a-8213-1efe4db1e5e7"
      },
      "outputs": [],
      "source": [
        "# # Requerimientos de librerías:\n",
        "# !pip install spacy\n",
        "# !python -m spacy download es_core_news_md\n",
        "\n",
        "# !pip install transformers\n",
        "# !pip install transformers scipy ftfy accelerate\n",
        "\n",
        "# !git clone https://github.com/JorgeSauri/COMSINT.git "
      ]
    },
    {
      "cell_type": "code",
      "execution_count": 2,
      "metadata": {
        "colab": {
          "base_uri": "https://localhost:8080/"
        },
        "id": "UC0BQgBCa7EU",
        "outputId": "52b39a9d-3f62-48c0-d2e3-fe9fa9d56cd0"
      },
      "outputs": [],
      "source": [
        "import os\n",
        "import pandas as pd\n",
        "import matplotlib.pyplot as plt\n",
        "from tqdm import tqdm\n",
        "import tensorflow as tf\n",
        "import numpy as np\n",
        "# from google.colab import drive\n",
        "# drive.mount('/content/drive')"
      ]
    },
    {
      "cell_type": "code",
      "execution_count": 3,
      "metadata": {
        "id": "PqqyOJYUmpu8"
      },
      "outputs": [
        {
          "name": "stderr",
          "output_type": "stream",
          "text": [
            "c:\\Users\\jsaur\\anaconda3\\envs\\ENV1\\lib\\site-packages\\tqdm\\auto.py:22: TqdmWarning: IProgress not found. Please update jupyter and ipywidgets. See https://ipywidgets.readthedocs.io/en/stable/user_install.html\n",
            "  from .autonotebook import tqdm as notebook_tqdm\n"
          ]
        }
      ],
      "source": [
        "from recomendaciones_comsint import Recomendador"
      ]
    },
    {
      "attachments": {},
      "cell_type": "markdown",
      "metadata": {},
      "source": [
        "## Con tamaño embeddings 256\n",
        "- CNN de max 512 kernels (v4)"
      ]
    },
    {
      "cell_type": "code",
      "execution_count": 4,
      "metadata": {},
      "outputs": [
        {
          "name": "stdout",
          "output_type": "stream",
          "text": [
            "[PhysicalDevice(name='/physical_device:GPU:0', device_type='GPU')]\n",
            "Modelo Modelos/Modelo_Nut_FV_DistilBERT_04_EMBED-128_CNN.h5 cargado con éxito.\n"
          ]
        }
      ],
      "source": [
        "version = 4\n",
        "\n",
        "recomendador256 = Recomendador(fuente='recetario_mexicano_small.csv',\n",
        "                            nutricion = 'nutricion.csv',\n",
        "                            canasta='canasta_basica.csv')\n",
        "\n",
        "recomendador256.CargarModelo(emb_size=256, version=version)"
      ]
    },
    {
      "cell_type": "code",
      "execution_count": 48,
      "metadata": {},
      "outputs": [
        {
          "name": "stdout",
          "output_type": "stream",
          "text": [
            "Generando 1  recetas aleatorias...\n",
            "\n"
          ]
        },
        {
          "name": "stderr",
          "output_type": "stream",
          "text": [
            "100%|██████████| 1/1 [00:00<00:00, 501.23it/s]\n"
          ]
        },
        {
          "data": {
            "text/plain": [
              "array([['9 gramos de los tazones de microondas gruesos de campbell  sopa de pollo y albóndigas, 4 cucharadas de soja  semillas secas asadas  maduras, 6 piezas de carne de cerdo  estofada  cocinada  separable solo  entera  lomo  fresco, 7 cucharaditas de cordero  asado rápido  cocido  separable delgado y grasa  deshuesado  lomo  importado  nueva zelanda, 6 mililitros de bebidas  enlatado  bebida de uva',\n",
              "        '1231.32', '0.68', '171.75', '54.95']], dtype='<U395')"
            ]
          },
          "execution_count": 48,
          "metadata": {},
          "output_type": "execute_result"
        }
      ],
      "source": [
        "recomendador256.generar_dataset_entrenamiento_nut(df_nutricionales='nutricion.csv', \n",
        "                                                  min_ingredientes=5, max_ingredientes=11,\n",
        "                                                  min_unidades=1, max_unidades=11,\n",
        "                                                  numero_recetas=1)"
      ]
    },
    {
      "cell_type": "code",
      "execution_count": 50,
      "metadata": {
        "colab": {
          "base_uri": "https://localhost:8080/"
        },
        "id": "bEJi_jszmzf9",
        "outputId": "040f86a7-dbbe-43d2-a00d-fece49e9e4d2"
      },
      "outputs": [
        {
          "name": "stdout",
          "output_type": "stream",
          "text": [
            "\n",
            "ITERACIÓN: 1\n",
            "min unidades: 1  max unidades: 11\n",
            "Entrenando desde epoch 0\n",
            "------------------------------------------\n",
            "\n",
            "Error al cargar archivos NumPy.\n",
            "datasets/numpy/2000_recetas_random_EMBED-128_DATA_X.npy no existe o está corrupto.\n",
            "datasets/numpy/2000_recetas_random_EMBED-128_DATA_Y.npy no existe o está corrupto.\n",
            "Generando 2000  recetas aleatorias...\n",
            "\n"
          ]
        },
        {
          "name": "stderr",
          "output_type": "stream",
          "text": [
            "100%|██████████| 2000/2000 [00:03<00:00, 621.81it/s]\n"
          ]
        },
        {
          "name": "stdout",
          "output_type": "stream",
          "text": [
            "Calculando vector de características de 2000 recetas...\n"
          ]
        },
        {
          "name": "stderr",
          "output_type": "stream",
          "text": [
            "  4%|▍         | 81/2000 [04:11<1:38:06,  3.07s/it]"
          ]
        }
      ],
      "source": [
        "recomendador256.NUM_RECETAS = 10000\n",
        "recomendador256.EMB_SIZE = 256\n",
        "ITER = 1\n",
        "INITIAL_EPOCH = 0\n",
        "EPOCHS = 100\n",
        "\n",
        "Histories = []\n",
        "for iteracion in range(ITER):\n",
        "  MINU = 1 \n",
        "  MAXU = 11   \n",
        "  print('\\nITERACIÓN:', iteracion+1)\n",
        "  print('min unidades:',MINU, ' max unidades:', MAXU)\n",
        "  print('Entrenando desde epoch', INITIAL_EPOCH)\n",
        "  print('------------------------------------------\\n')\n",
        "  modelo256, history = recomendador256.EntrenarModelo(df_nutricionales='nutricion.csv',\n",
        "                                #df_training='recipes_con_info_nutricional.csv',\n",
        "                                df_test='recetas_test.csv', \n",
        "                                df_val='recetas_val.csv',\n",
        "                                learning_rate=1e-4,\n",
        "                                version=version, \n",
        "                                initial_epoch = INITIAL_EPOCH,                             \n",
        "                                epochs=INITIAL_EPOCH + EPOCHS, \n",
        "                                kernels=128,                                             \n",
        "                                min_ingredientes=5, max_ingredientes=11,\n",
        "                                min_unidades=MINU, max_unidades=MAXU,                               \n",
        "                                save=True, verbose=True)\n",
        "  INITIAL_EPOCH = history.epoch[-1]\n",
        "\n",
        "  Histories.append(history)\n"
      ]
    },
    {
      "cell_type": "code",
      "execution_count": null,
      "metadata": {},
      "outputs": [
        {
          "data": {
            "image/png": "[encoded data removed]",
            "text/plain": [
              "<Figure size 432x288 with 1 Axes>"
            ]
          },
          "metadata": {
            "needs_background": "light"
          },
          "output_type": "display_data"
        },
        {
          "name": "stdout",
          "output_type": "stream",
          "text": [
            "LOSS: 89.82654571533203  -- MAE: 89.82654571533203  -- VAL_LOSS: 175.2900390625  -- VAL_MAE: 175.2900390625\n",
            "----------------------------------------------------------\n"
          ]
        }
      ],
      "source": [
        "for i in range(len(Histories)):\n",
        "    history = Histories[i]    \n",
        "    pd.DataFrame(history.history).plot()\n",
        "    plt.title('ITERACIÓN ' + str(i))\n",
        "    plt.show()\n",
        "    print('LOSS:',history.history['loss'][-1], ' -- MAE:', history.history['mae'][-1], \n",
        "          ' -- VAL_LOSS:', history.history['val_loss'][-1], ' -- VAL_MAE:', history.history['val_mae'][-1])\n",
        "    print('----------------------------------------------------------')"
      ]
    },
    {
      "cell_type": "code",
      "execution_count": null,
      "metadata": {},
      "outputs": [],
      "source": [
        "modelo256, history2 = recomendador128.EntrenarModelo(df_nutricionales='nutricion.csv',\n",
        "                            df_training='recipes_con_info_nutricional.csv',\n",
        "                            df_test='recetas_test.csv', \n",
        "                            df_val='recetas_val.csv',\n",
        "                            learning_rate=1e-4,\n",
        "                            version=version, \n",
        "                            initial_epoch = INITIAL_EPOCH,                             \n",
        "                            epochs=INITIAL_EPOCH + EPOCHS, \n",
        "                            kernels=128,                                             \n",
        "                            min_ingredientes=5, max_ingredientes=11,\n",
        "                            min_unidades=MINU, max_unidades=MAXU,                               \n",
        "                            save=True, verbose=True)\n",
        "\n",
        "Histories.append(history)"
      ]
    },
    {
      "cell_type": "code",
      "execution_count": null,
      "metadata": {},
      "outputs": [],
      "source": [
        "for i in range(len(Histories)):\n",
        "    history = Histories[i]    \n",
        "    pd.DataFrame(history.history).plot()\n",
        "    plt.title('ITERACIÓN ' + str(i))\n",
        "    plt.show()\n",
        "    print('LOSS:',history.history['loss'][-1], ' -- MAE:', history.history['mae'][-1], \n",
        "          ' -- VAL_LOSS:', history.history['val_loss'][-1], ' -- VAL_MAE:', history.history['val_mae'][-1])\n",
        "    print('----------------------------------------------------------')"
      ]
    }
  ],
  "metadata": {
    "accelerator": "GPU",
    "colab": {
      "provenance": []
    },
    "gpuClass": "standard",
    "kernelspec": {
      "display_name": "ENV1",
      "language": "python",
      "name": "python3"
    },
    "language_info": {
      "codemirror_mode": {
        "name": "ipython",
        "version": 3
      },
      "file_extension": ".py",
      "mimetype": "text/x-python",
      "name": "python",
      "nbconvert_exporter": "python",
      "pygments_lexer": "ipython3",
      "version": "3.10.4"
    },
    "vscode": {
      "interpreter": {
        "hash": "5f2da51d7d0dec3faa1f8ac8beeb385a8f34478b2b58e2219ee6afa3e91fcd74"
      }
    }
  },
  "nbformat": 4,
  "nbformat_minor": 0
}
